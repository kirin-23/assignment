{
  "nbformat": 4,
  "nbformat_minor": 0,
  "metadata": {
    "colab": {
      "name": "q3.ipynb",
      "provenance": [],
      "collapsed_sections": []
    },
    "kernelspec": {
      "name": "python3",
      "display_name": "Python 3"
    },
    "language_info": {
      "name": "python"
    }
  },
  "cells": [
    {
      "cell_type": "code",
      "metadata": {
        "id": "CMzFLHRf06Xh"
      },
      "source": [
        "import networkx as nx\n",
        "import numpy as np\n",
        "import matplotlib.pyplot as plt\n",
        "from networkx.algorithms import community as nxcm\n",
        "from sklearn.cluster import KMeans\n",
        "from networkx import edge_betweenness_centrality as betweenness\n",
        "from itertools import chain, combinations\n",
        "from scipy.cluster.hierarchy import dendrogram"
      ],
      "execution_count": null,
      "outputs": []
    },
    {
      "cell_type": "code",
      "metadata": {
        "id": "nyXJYyr02PEb"
      },
      "source": [
        "G = nx.read_gml('karate.gml', label = 'id')\n",
        "H = nx.read_gml('dolphins.gml', label = 'id')\n",
        "fh=open(\"jazz.net\", \"rb\")\n",
        "I = nx.read_weighted_edgelist(fh)"
      ],
      "execution_count": null,
      "outputs": []
    },
    {
      "cell_type": "markdown",
      "metadata": {
        "id": "8Xb5I3ZK0zl8"
      },
      "source": [
        "# Algorithms applied on Karate Club Graph. "
      ]
    },
    {
      "cell_type": "markdown",
      "metadata": {
        "id": "KRYI-qlo2HjJ"
      },
      "source": [
        "Applied on rest of the Graphs in the Q4.ipynb."
      ]
    },
    {
      "cell_type": "code",
      "metadata": {
        "id": "yVZEwK36oGw-"
      },
      "source": [
        "# Program for Girvan-Newman\n",
        "def most_central_edge(G):\n",
        "    centrality = betweenness(G, weight=\"weight\") \n",
        "    return max(centrality, key=centrality.get) #For finding edge betweenness and returning max value \n",
        "\n",
        "comp_GN = nxcm.girvan_newman(G, most_valuable_edge=most_central_edge)\n",
        "communities = list(nx.community.girvan_newman(G)) "
      ],
      "execution_count": null,
      "outputs": []
    },
    {
      "cell_type": "code",
      "metadata": {
        "id": "dzbzdmr32dyE"
      },
      "source": [
        "# Building initial dict of node_id to each possible subset:\n",
        "node_id = 0\n",
        "init_node2community_dict = {node_id: communities[0][0].union(communities[0][1])}\n",
        "for comm in communities:\n",
        "    for subset in list(comm):\n",
        "        if subset not in init_node2community_dict.values():\n",
        "            node_id += 1\n",
        "            init_node2community_dict[node_id] = subset\n",
        "\n",
        "# Turning this dictionary to the desired format\n",
        "node_id_to_children = {e: [] for e in init_node2community_dict.keys()}\n",
        "for node_id1, node_id2 in combinations(init_node2community_dict.keys(), 2):\n",
        "    for node_id_parent, group in init_node2community_dict.items():\n",
        "        if len(init_node2community_dict[node_id1].intersection(init_node2community_dict[node_id2])) == 0 and group == init_node2community_dict[node_id1].union(init_node2community_dict[node_id2]):\n",
        "            node_id_to_children[node_id_parent].append(node_id1)\n",
        "            node_id_to_children[node_id_parent].append(node_id2)\n",
        "\n",
        "# Recording node_labels dict for the correct label for dendrogram leaves\n",
        "node_labels = dict()\n",
        "for node_id, group in init_node2community_dict.items():\n",
        "    if len(group) == 1:\n",
        "        node_labels[node_id] = list(group)[0]\n",
        "    else:\n",
        "        node_labels[node_id] = ''\n",
        "\n",
        "# Making a subset to rank dict to later know within all k-length merges which came first\n",
        "subset_rank_dict = dict()\n",
        "rank = 0\n",
        "for e in communities[::-1]:\n",
        "    for p in list(e):\n",
        "        if tuple(p) not in subset_rank_dict:\n",
        "            subset_rank_dict[tuple(sorted(p))] = rank\n",
        "            rank += 1\n",
        "subset_rank_dict[tuple(sorted(chain.from_iterable(communities[-1])))] = rank\n",
        "\n",
        "# Merge Height\n",
        "def get_merge_height(sub):\n",
        "    sub_tuple = tuple(sorted([node_labels[i] for i in sub]))\n",
        "    n = len(sub_tuple)\n",
        "    other_same_len_merges = {k: v for k, v in subset_rank_dict.items() if len(k) == n}\n",
        "    min_rank, max_rank = min(other_same_len_merges.values()), max(other_same_len_merges.values())\n",
        "    range = (max_rank-min_rank) if max_rank > min_rank else 1\n",
        "    return float(len(sub)) + 0.8 * (subset_rank_dict[sub_tuple] - min_rank) / range\n",
        "\n"
      ],
      "execution_count": null,
      "outputs": []
    },
    {
      "cell_type": "code",
      "metadata": {
        "colab": {
          "base_uri": "https://localhost:8080/",
          "height": 306
        },
        "id": "dkC6az2l2vYj",
        "outputId": "130ccd05-d5f5-4576-bef9-356ffd96dce9"
      },
      "source": [
        "# Create new Digraph for scipy dendrogram\n",
        "M           = nx.DiGraph(node_id_to_children)\n",
        "nodes       = M.nodes()\n",
        "leaves      = set( n for n in nodes if M.out_degree(n) == 0 )\n",
        "inner_nodes = [ n for n in nodes if M.out_degree(n) > 0 ]\n",
        "\n",
        "# Compute the size of each subtree\n",
        "subtree = dict( (n, [n]) for n in leaves )\n",
        "for u in inner_nodes:\n",
        "    children = set()\n",
        "    node_list = list(node_id_to_children[u])\n",
        "    while len(node_list) > 0:\n",
        "        v = node_list.pop(0)\n",
        "        children.add( v )\n",
        "        node_list += node_id_to_children[v]\n",
        "    subtree[u] = sorted(children & leaves)\n",
        "\n",
        "inner_nodes.sort(key=lambda n: len(subtree[n])) # <-- order inner nodes ascending by subtree size, root is last\n",
        "\n",
        "# Construct the linkage matrix\n",
        "leaves = sorted(leaves)\n",
        "index  = dict( (tuple([n]), i) for i, n in enumerate(leaves) )\n",
        "Z = []\n",
        "k = len(leaves)\n",
        "for i, n in enumerate(inner_nodes):\n",
        "    children = node_id_to_children[n]\n",
        "    x = children[0]\n",
        "    for y in children[1:]:\n",
        "        z = tuple(sorted(subtree[x] + subtree[y]))\n",
        "        i, j = index[tuple(sorted(subtree[x]))], index[tuple(sorted(subtree[y]))]\n",
        "        Z.append([i, j, get_merge_height(subtree[n]), len(z)]) # <-- float is required by the dendrogram function\n",
        "        index[z] = k\n",
        "        subtree[z] = list(z)\n",
        "        x = z\n",
        "        k += 1\n",
        "\n",
        "\n",
        "plt.figure()\n",
        "x=dendrogram(Z, labels=[node_labels[node_id] for node_id in leaves])\n",
        "print(x)\n",
        "plt.show()"
      ],
      "execution_count": null,
      "outputs": [
        {
          "output_type": "stream",
          "name": "stdout",
          "text": [
            "{'icoord': [[25.0, 25.0, 35.0, 35.0], [15.0, 15.0, 30.0, 30.0], [5.0, 5.0, 22.5, 22.5], [13.75, 13.75, 45.0, 45.0], [29.375, 29.375, 55.0, 55.0], [42.1875, 42.1875, 65.0, 65.0], [53.59375, 53.59375, 75.0, 75.0], [64.296875, 64.296875, 85.0, 85.0], [74.6484375, 74.6484375, 95.0, 95.0], [105.0, 105.0, 115.0, 115.0], [135.0, 135.0, 145.0, 145.0], [125.0, 125.0, 140.0, 140.0], [110.0, 110.0, 132.5, 132.5], [84.82421875, 84.82421875, 121.25, 121.25], [155.0, 155.0, 165.0, 165.0], [160.0, 160.0, 175.0, 175.0], [195.0, 195.0, 205.0, 205.0], [185.0, 185.0, 200.0, 200.0], [167.5, 167.5, 192.5, 192.5], [245.0, 245.0, 255.0, 255.0], [235.0, 235.0, 250.0, 250.0], [225.0, 225.0, 242.5, 242.5], [233.75, 233.75, 265.0, 265.0], [215.0, 215.0, 249.375, 249.375], [232.1875, 232.1875, 275.0, 275.0], [253.59375, 253.59375, 285.0, 285.0], [269.296875, 269.296875, 295.0, 295.0], [282.1484375, 282.1484375, 305.0, 305.0], [293.57421875, 293.57421875, 315.0, 315.0], [304.287109375, 304.287109375, 325.0, 325.0], [180.0, 180.0, 314.6435546875, 314.6435546875], [247.32177734375, 247.32177734375, 335.0, 335.0], [103.037109375, 103.037109375, 291.160888671875, 291.160888671875]], 'dcoord': [[0.0, 2.236065573770492, 2.236065573770492, 0.0], [0.0, 3.2555555555555555, 3.2555555555555555, 2.236065573770492], [0.0, 4.0, 4.0, 3.2555555555555555], [4.0, 5.0, 5.0, 0.0], [5.0, 6.0, 6.0, 0.0], [6.0, 7.0, 7.0, 0.0], [7.0, 8.0, 8.0, 0.0], [8.0, 9.8, 9.8, 0.0], [9.8, 10.8, 10.8, 0.0], [0.0, 2.8, 2.8, 0.0], [0.0, 2.1049180327868853, 2.1049180327868853, 0.0], [0.0, 3.6333333333333333, 3.6333333333333333, 2.1049180327868853], [2.8, 5.8, 5.8, 3.6333333333333333], [10.8, 15.0, 15.0, 5.8], [0.0, 2.301639344262295, 2.301639344262295, 0.0], [2.301639344262295, 3.511111111111111, 3.511111111111111, 0.0], [0.0, 2.0262295081967214, 2.0262295081967214, 0.0], [0.0, 3.8, 3.8, 2.0262295081967214], [3.511111111111111, 6.8, 6.8, 3.8], [0.0, 2.0, 2.0, 0.0], [0.0, 3.0, 3.0, 2.0], [0.0, 4.8, 4.8, 3.0], [4.8, 5.207407407407407, 5.207407407407407, 0.0], [0.0, 6.070588235294117, 6.070588235294117, 5.207407407407407], [6.070588235294117, 7.8, 7.8, 0.0], [7.8, 8.8, 8.8, 0.0], [8.8, 9.0, 9.0, 0.0], [9.0, 10.0, 10.0, 0.0], [10.0, 11.0, 11.0, 0.0], [11.0, 12.0, 12.0, 0.0], [6.8, 18.0, 18.0, 12.0], [18.0, 19.0, 19.0, 0.0], [15.0, 34.0, 34.0, 19.0]], 'ivl': [1, 2, 4, 14, 8, 22, 20, 18, 13, 12, 5, 11, 6, 7, 17, 3, 29, 28, 25, 26, 32, 9, 24, 30, 33, 34, 31, 23, 21, 19, 16, 15, 27, 10], 'leaves': [16, 17, 20, 21, 15, 11, 9, 7, 3, 1, 22, 23, 24, 25, 26, 18, 19, 12, 28, 29, 30, 13, 27, 31, 32, 33, 14, 10, 8, 6, 5, 4, 2, 0], 'color_list': ['g', 'g', 'g', 'g', 'g', 'g', 'g', 'g', 'g', 'g', 'g', 'g', 'g', 'g', 'r', 'r', 'r', 'r', 'r', 'r', 'r', 'r', 'r', 'r', 'r', 'r', 'r', 'r', 'r', 'r', 'r', 'r', 'b']}\n"
          ]
        },
        {
          "output_type": "display_data",
          "data": {
            "image/png": "[encoded data removed]",
            "text/plain": [
              "<Figure size 432x288 with 1 Axes>"
            ]
          },
          "metadata": {
            "needs_background": "light"
          }
        }
      ]
    },
    {
      "cell_type": "code",
      "metadata": {
        "colab": {
          "base_uri": "https://localhost:8080/",
          "height": 283
        },
        "id": "wdoHCqc525XH",
        "outputId": "19d2e0b3-34ff-4e31-ef26-64b8f9a3d8b6"
      },
      "source": [
        "#Inverse Skree Test helps to find natural number of clusters/communities\n",
        "cluster_number = []\n",
        "agg_level = []\n",
        "\n",
        "\n",
        "for i in range(len(x['dcoord'])):\n",
        "    cluster_number.append(i)\n",
        "    agg_level.append(max(x['dcoord'][i]))\n",
        "    \n",
        "agg_level = sorted(agg_level)\n",
        "cluster_number = sorted(cluster_number,reverse=True)\n",
        "\n",
        "plt.plot(cluster_number,agg_level,label='agglomerative level')\n",
        "plt.legend()"
      ],
      "execution_count": null,
      "outputs": [
        {
          "output_type": "execute_result",
          "data": {
            "text/plain": [
              "<matplotlib.legend.Legend at 0x7f5197f4c790>"
            ]
          },
          "metadata": {},
          "execution_count": 6
        },
        {
          "output_type": "display_data",
          "data": {
            "image/png": "[encoded data removed]",
            "text/plain": [
              "<Figure size 432x288 with 1 Axes>"
            ]
          },
          "metadata": {
            "needs_background": "light"
          }
        }
      ]
    },
    {
      "cell_type": "code",
      "metadata": {
        "id": "Pxf-jp74jQy5"
      },
      "source": [
        "#As we can see from the dendrogram that the highest differnce between levels happens between the initial link. \n",
        "#So if we cut from there we get 2 natural clusters. \n",
        "#Same is shown in an inverse scree test."
      ],
      "execution_count": null,
      "outputs": []
    },
    {
      "cell_type": "code",
      "metadata": {
        "colab": {
          "base_uri": "https://localhost:8080/"
        },
        "id": "PKtLuzYt2S2u",
        "outputId": "1cd80a9b-d927-4dfd-93d2-54314b65f894"
      },
      "source": [
        "print(\"Communities of Karate Club Network through Girvan-Newman\")\n",
        "first_division=next(comp_GN);\n",
        "print(sorted(first_division))\n",
        "#print(\"-------------------------------------------------------\")"
      ],
      "execution_count": null,
      "outputs": [
        {
          "output_type": "stream",
          "name": "stdout",
          "text": [
            "Communities of Karate Club Network through Girvan-Newman\n",
            "[{1, 2, 4, 5, 6, 7, 8, 11, 12, 13, 14, 17, 18, 20, 22}, {3, 9, 10, 15, 16, 19, 21, 23, 24, 25, 26, 27, 28, 29, 30, 31, 32, 33, 34}]\n"
          ]
        }
      ]
    },
    {
      "cell_type": "code",
      "metadata": {
        "colab": {
          "base_uri": "https://localhost:8080/"
        },
        "id": "L6CVaF0I3Cne",
        "outputId": "b0ed19ef-6781-4c44-eaa5-c0453954672d"
      },
      "source": [
        "# Program for Modularity Maximization\n",
        "comp_MM = list(nxcm.modularity_max.greedy_modularity_communities(G))\n",
        "for i in range (0,len(comp_MM)):\n",
        "  print(sorted(comp_MM[i]))\n"
      ],
      "execution_count": null,
      "outputs": [
        {
          "output_type": "stream",
          "name": "stdout",
          "text": [
            "[9, 15, 16, 19, 21, 23, 24, 25, 26, 27, 28, 29, 30, 31, 32, 33, 34]\n",
            "[2, 3, 4, 8, 10, 13, 14, 18, 22]\n",
            "[1, 5, 6, 7, 11, 12, 17, 20]\n"
          ]
        }
      ]
    },
    {
      "cell_type": "code",
      "metadata": {
        "colab": {
          "base_uri": "https://localhost:8080/"
        },
        "id": "Bh6WnnfO3K2B",
        "outputId": "ca4d07ce-2e06-4ac9-90c8-a7596cee81d0"
      },
      "source": [
        "# Program for Spectral Clustering\n",
        "K=len(first_division)\n",
        "L = nx.laplacian_matrix(G) #Generate Laplacian Matrix\n",
        "e, v = np.linalg.eig(L.todense()) #Generate Eigen Values\n",
        "idx = np.argsort(e) \n",
        "e = e[idx]\n",
        "v = v[:,idx]\n",
        "v=v[:,1]\n",
        "kmeans = KMeans(n_clusters=K, random_state=0).fit(v.reshape(-1,1)) \n",
        "ls = np.abs(kmeans.labels_)\n",
        "\n",
        "comp_SC=[]\n",
        "for i in range(0,K):\n",
        "  print(np.where(ls==i)[0]+1)\n",
        "\n",
        "\n",
        "for i in range(0,K): # Converting output of k-means to list format\n",
        "  temp=[]\n",
        "  for j in range(0,len(ls)):\n",
        "    if(ls[j]==i):\n",
        "      temp.append(j+1)\n",
        "  comp_SC.append(temp)\n",
        "\n",
        "print(comp_SC)"
      ],
      "execution_count": null,
      "outputs": [
        {
          "output_type": "stream",
          "name": "stdout",
          "text": [
            "[ 2  3  4  8  9 10 14 15 16 19 20 21 23 24 25 26 27 28 29 30 31 32 33 34]\n",
            "[ 1  5  6  7 11 12 13 17 18 22]\n",
            "[[2, 3, 4, 8, 9, 10, 14, 15, 16, 19, 20, 21, 23, 24, 25, 26, 27, 28, 29, 30, 31, 32, 33, 34], [1, 5, 6, 7, 11, 12, 13, 17, 18, 22]]\n"
          ]
        },
        {
          "output_type": "stream",
          "name": "stderr",
          "text": [
            "/usr/local/lib/python3.7/dist-packages/sklearn/utils/validation.py:590: FutureWarning: np.matrix usage is deprecated in 1.0 and will raise a TypeError in 1.2. Please convert to a numpy array with np.asarray. For more information see: https://numpy.org/doc/stable/reference/generated/numpy.matrix.html\n",
            "  FutureWarning,\n"
          ]
        }
      ]
    }
  ]
}