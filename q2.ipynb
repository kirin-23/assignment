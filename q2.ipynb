{
  "nbformat": 4,
  "nbformat_minor": 0,
  "metadata": {
    "colab": {
      "name": "q2.ipynb",
      "provenance": [],
      "collapsed_sections": []
    },
    "kernelspec": {
      "name": "python3",
      "display_name": "Python 3"
    },
    "language_info": {
      "name": "python"
    }
  },
  "cells": [
    {
      "cell_type": "code",
      "metadata": {
        "id": "zlLiuufjwlyY"
      },
      "source": [
        "import networkx as nx\n",
        "import numpy as np\n",
        "import matplotlib.pyplot as plt\n",
        "from networkx.algorithms import community as nxcm\n",
        "from sklearn.cluster import KMeans\n",
        "from networkx import edge_betweenness_centrality as betweenness\n",
        "from itertools import chain, combinations\n",
        "from scipy.cluster.hierarchy import dendrogram"
      ],
      "execution_count": null,
      "outputs": []
    },
    {
      "cell_type": "code",
      "metadata": {
        "id": "PJuAZLxAx7dE"
      },
      "source": [
        "#Reading karate Club Network\n",
        "G = nx.read_gml('karate.gml', label = 'id')\n",
        "#Reading Dolphins network\n",
        "H = nx.read_gml('dolphins.gml', label = 'id')\n",
        "#Reading Jazz Netwrok\n",
        "fh=open(\"jazz.net\", \"rb\")\n",
        "I = nx.read_weighted_edgelist(fh)"
      ],
      "execution_count": null,
      "outputs": []
    },
    {
      "cell_type": "code",
      "metadata": {
        "colab": {
          "base_uri": "https://localhost:8080/"
        },
        "id": "WtOAa478x-vm",
        "outputId": "b2f744d7-ec03-43fc-f8a3-76960a949103"
      },
      "source": [
        "#Karate Club Calculation\n",
        "print(\"Details of Karate Club Network-\")\n",
        "print(\"Number of Nodes - \", G.number_of_nodes())\n",
        "print(\"Number of Edges - \", G.number_of_edges())\n",
        "print(\"Average Path Length - \", nx.average_shortest_path_length(G))\n",
        "print(\"Average Clustering Coefficient - \", nx.average_clustering(G))\n",
        "print(\"--------------------------------------\")\n"
      ],
      "execution_count": null,
      "outputs": [
        {
          "output_type": "stream",
          "name": "stdout",
          "text": [
            "Details of Karate Club Network-\n",
            "Number of Nodes -  34\n",
            "Number of Edges -  78\n",
            "Average Path Length -  2.408199643493761\n",
            "Average Clustering Coefficient -  0.5706384782076823\n",
            "--------------------------------------\n"
          ]
        }
      ]
    },
    {
      "cell_type": "code",
      "metadata": {
        "colab": {
          "base_uri": "https://localhost:8080/"
        },
        "id": "sytlNcetyYn7",
        "outputId": "f2cc83cd-806b-4361-da4a-fab1b04b9052"
      },
      "source": [
        "#Dolphins Social Network Calculation\n",
        "print(\"Details of Dolphins Social  Network-\")\n",
        "print(\"Number of Nodes - \", H.number_of_nodes())\n",
        "print(\"Number of Edges - \", H.number_of_edges())\n",
        "print(\"Average Path Length - \", nx.average_shortest_path_length(H))\n",
        "print(\"Average Clustering Coefficient - \", nx.average_clustering(H))\n",
        "print(\"--------------------------------------\")"
      ],
      "execution_count": null,
      "outputs": [
        {
          "output_type": "stream",
          "name": "stdout",
          "text": [
            "Details of Dolphins Social  Network-\n",
            "Number of Nodes -  62\n",
            "Number of Edges -  159\n",
            "Average Path Length -  3.3569539925965097\n",
            "Average Clustering Coefficient -  0.2589582460550202\n",
            "--------------------------------------\n"
          ]
        }
      ]
    },
    {
      "cell_type": "code",
      "metadata": {
        "colab": {
          "base_uri": "https://localhost:8080/"
        },
        "id": "8mfr7Et4yqyu",
        "outputId": "842c3bb2-7417-422c-a389-57c31d2c4bdb"
      },
      "source": [
        "#Jazz Musicians Network Calculation \n",
        "print(\"Details of Jazz Musicians  Network-\")\n",
        "print(\"Number of Nodes - \", I.number_of_nodes())\n",
        "print(\"Number of Edges - \", I.number_of_edges())\n",
        "print(\"Average Path Length - \", nx.average_shortest_path_length(I))\n",
        "print(\"Average Clustering Coefficient - \", nx.average_clustering(I))\n",
        "print(\"--------------------------------------\")"
      ],
      "execution_count": null,
      "outputs": [
        {
          "output_type": "stream",
          "name": "stdout",
          "text": [
            "Details of Jazz Musicians  Network-\n",
            "Number of Nodes -  199\n",
            "Number of Edges -  2743\n",
            "Average Path Length -  2.2480077153443987\n",
            "Average Clustering Coefficient -  0.6138325373058027\n",
            "--------------------------------------\n"
          ]
        }
      ]
    },
    {
      "cell_type": "code",
      "metadata": {
        "id": "TX27JGSnyV5Z"
      },
      "source": [
        ""
      ],
      "execution_count": null,
      "outputs": []
    }
  ]
}