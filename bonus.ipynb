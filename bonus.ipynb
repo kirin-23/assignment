{
  "nbformat": 4,
  "nbformat_minor": 0,
  "metadata": {
    "colab": {
      "name": "bonus.ipynb",
      "provenance": [],
      "collapsed_sections": []
    },
    "kernelspec": {
      "name": "python3",
      "display_name": "Python 3"
    },
    "language_info": {
      "name": "python"
    }
  },
  "cells": [
    {
      "cell_type": "code",
      "metadata": {
        "id": "jlG_XIgXVgve"
      },
      "source": [
        "import networkx as nx\n",
        "import numpy as np\n",
        "import matplotlib.pyplot as plt\n",
        "from networkx.algorithms import community as nxcm\n",
        "from sklearn.cluster import KMeans\n",
        "from networkx import edge_betweenness_centrality as betweenness\n",
        "from itertools import chain, combinations\n",
        "from scipy.cluster.hierarchy import dendrogram\n",
        "from datetime import datetime\n",
        "import numpy as np\n",
        "from scipy import stats"
      ],
      "execution_count": null,
      "outputs": []
    },
    {
      "cell_type": "code",
      "metadata": {
        "id": "65aawfufVs-I"
      },
      "source": [
        "#Reading karate Club Network\n",
        "G = nx.read_gml('karate.gml', label = 'id')\n",
        "#Reading Dolphins network\n",
        "H = nx.read_gml('dolphins.gml', label = 'id')\n",
        "#Reading Jazz Netwrok\n",
        "fh=open(\"jazz.net\", \"rb\")\n",
        "I = nx.read_weighted_edgelist(fh)"
      ],
      "execution_count": null,
      "outputs": []
    },
    {
      "cell_type": "code",
      "metadata": {
        "colab": {
          "base_uri": "https://localhost:8080/"
        },
        "id": "OpMHkiVlWFUN",
        "outputId": "e2609e8f-240a-42b2-b3c5-9c080a2426ea"
      },
      "source": [
        "#Girvan-Newman for Karate network\n",
        "def most_central_edge(G):\n",
        "    centrality = betweenness(G, weight=\"weight\")\n",
        "    return max(centrality, key=centrality.get)\n",
        "\n",
        "comp_GN = nxcm.girvan_newman(G, most_valuable_edge=most_central_edge)\n",
        "first_division=next(comp_GN);\n",
        "print(sorted(first_division))\n",
        "\n",
        "\n",
        "communities = list(nx.community.girvan_newman(G))"
      ],
      "execution_count": null,
      "outputs": [
        {
          "output_type": "stream",
          "name": "stdout",
          "text": [
            "[{1, 2, 4, 5, 6, 7, 8, 11, 12, 13, 14, 17, 18, 20, 22}, {3, 9, 10, 15, 16, 19, 21, 23, 24, 25, 26, 27, 28, 29, 30, 31, 32, 33, 34}]\n"
          ]
        }
      ]
    },
    {
      "cell_type": "code",
      "metadata": {
        "colab": {
          "base_uri": "https://localhost:8080/"
        },
        "id": "IG7iwKKVV1Vo",
        "outputId": "c4dae70a-f13c-4d36-da7c-dc79fd7d1a15"
      },
      "source": [
        "#Representative network for Karate\n",
        "number_of_clusters = len(first_division)\n",
        "\n",
        "adjacency_matrix = np.zeros(shape=(number_of_clusters,number_of_clusters))\n",
        "\n",
        "for u,v,a in G.edges(data=True):\n",
        "  u_location=-1\n",
        "  v_location=-1\n",
        "  for i in range(0,number_of_clusters):\n",
        "    if(u in first_division[i]):\n",
        "      u_location=i;\n",
        "    if(v in first_division[i]):\n",
        "      v_location=i;\n",
        "  \n",
        "  #print(u,\" \", v, \" \",u_location,\" \", v_location)\n",
        "  if(u_location!=v_location):\n",
        "    adjacency_matrix[u_location][v_location]+=1;\n",
        "    adjacency_matrix[v_location][u_location]+=1;\n",
        "  \n",
        "print(adjacency_matrix)\n",
        "\n",
        "representative_network = nx.from_numpy_matrix(adjacency_matrix)\n",
        "nx.write_gexf(representative_network, \"test.gexf\")"
      ],
      "execution_count": null,
      "outputs": [
        {
          "output_type": "stream",
          "name": "stdout",
          "text": [
            "[[ 0. 10.]\n",
            " [10.  0.]]\n"
          ]
        }
      ]
    },
    {
      "cell_type": "code",
      "metadata": {
        "id": "Cu5jlJcIWTFp"
      },
      "source": [
        ""
      ],
      "execution_count": null,
      "outputs": []
    },
    {
      "cell_type": "code",
      "metadata": {
        "colab": {
          "base_uri": "https://localhost:8080/"
        },
        "id": "4AR2brKMWN-9",
        "outputId": "c3ae8e02-b300-4cf8-fd7f-2441c0c2d8a2"
      },
      "source": [
        "#Girvan-Newman for  Dolphins\n",
        "def most_central_edge(G):\n",
        "    centrality = betweenness(G, weight=\"weight\")\n",
        "    return max(centrality, key=centrality.get)\n",
        "comp_GN = nxcm.girvan_newman(H, most_valuable_edge=most_central_edge)\n",
        "communities = list(nx.community.girvan_newman(H))\n",
        "print(communities[3])\n",
        "first_division=communities[3]\n",
        "print(sorted(first_division))"
      ],
      "execution_count": null,
      "outputs": [
        {
          "output_type": "stream",
          "name": "stdout",
          "text": [
            "({0, 2, 10, 42, 47, 28, 30}, {1, 5, 6, 7, 9, 13, 17, 19, 22, 25, 26, 27, 31, 32, 39, 41, 48, 54, 56, 57, 60}, {3, 8, 12, 14, 16, 20, 33, 34, 36, 37, 38, 40, 43, 44, 46, 49, 50, 52, 58, 59}, {35, 4, 11, 45, 15, 18, 51, 23, 21, 55, 24, 29}, {61, 53})\n",
            "[{0, 2, 10, 42, 47, 28, 30}, {1, 5, 6, 7, 9, 13, 17, 19, 22, 25, 26, 27, 31, 32, 39, 41, 48, 54, 56, 57, 60}, {3, 8, 12, 14, 16, 20, 33, 34, 36, 37, 38, 40, 43, 44, 46, 49, 50, 52, 58, 59}, {35, 4, 11, 45, 15, 18, 51, 23, 21, 55, 24, 29}, {61, 53}]\n"
          ]
        }
      ]
    },
    {
      "cell_type": "code",
      "metadata": {
        "colab": {
          "base_uri": "https://localhost:8080/"
        },
        "id": "YDvIcsyEWUW_",
        "outputId": "db169d94-6ab4-4c57-cba4-7bc18a1df1b8"
      },
      "source": [
        "#Representative network for Dolphins network\n",
        "number_of_clusters = len(first_division)\n",
        "\n",
        "adjacency_matrix = np.zeros(shape=(number_of_clusters,number_of_clusters))\n",
        "\n",
        "for u,v,a in G.edges(data=True):\n",
        "  u_location=-1\n",
        "  v_location=-1\n",
        "  for i in range(0,number_of_clusters):\n",
        "    if(u in first_division[i]):\n",
        "      u_location=i;\n",
        "    if(v in first_division[i]):\n",
        "      v_location=i;\n",
        "  \n",
        "  #print(u,\" \", v, \" \",u_location,\" \", v_location)\n",
        "  if(u_location!=v_location):\n",
        "    adjacency_matrix[u_location][v_location]+=1;\n",
        "    adjacency_matrix[v_location][u_location]+=1;\n",
        "  \n",
        "print(adjacency_matrix)\n",
        "\n",
        "representative_network = nx.from_numpy_matrix(adjacency_matrix)\n",
        "nx.write_gexf(representative_network, \"test1.gexf\")"
      ],
      "execution_count": null,
      "outputs": [
        {
          "output_type": "stream",
          "name": "stdout",
          "text": [
            "[[ 0.  5. 10.  4.  0.]\n",
            " [ 5.  0. 15.  8.  0.]\n",
            " [10. 15.  0. 13.  0.]\n",
            " [ 4.  8. 13.  0.  0.]\n",
            " [ 0.  0.  0.  0.  0.]]\n"
          ]
        }
      ]
    },
    {
      "cell_type": "code",
      "metadata": {
        "id": "XH0bvMPvrOgs"
      },
      "source": [
        ""
      ],
      "execution_count": null,
      "outputs": []
    },
    {
      "cell_type": "code",
      "metadata": {
        "colab": {
          "base_uri": "https://localhost:8080/"
        },
        "id": "ehUxwZYN7HeQ",
        "outputId": "f2eb88a1-8604-4000-f702-ae103223dcf4"
      },
      "source": [
        "#Girvan-Newman for Jazz\n",
        "def most_central_edge(G):\n",
        "    centrality = betweenness(G, weight=\"weight\")\n",
        "    return max(centrality, key=centrality.get)\n",
        "\n",
        "comp_GN = nxcm.girvan_newman(I, most_valuable_edge=most_central_edge)\n",
        "communities = list(nx.community.girvan_newman(G))\n",
        "print(communities[3])\n",
        "first_division=communities[3]\n",
        "print(sorted(first_division))"
      ],
      "execution_count": null,
      "outputs": [
        {
          "output_type": "stream",
          "name": "stdout",
          "text": [
            "({1, 2, 4, 8, 12, 13, 14, 18, 20, 22}, {32, 3, 25, 26, 28, 29}, {5, 6, 7, 11, 17}, {33, 34, 9, 15, 16, 19, 21, 23, 24, 27, 30, 31}, {10})\n",
            "[{1, 2, 4, 8, 12, 13, 14, 18, 20, 22}, {32, 3, 25, 26, 28, 29}, {5, 6, 7, 11, 17}, {33, 34, 9, 15, 16, 19, 21, 23, 24, 27, 30, 31}, {10}]\n"
          ]
        }
      ]
    },
    {
      "cell_type": "code",
      "metadata": {
        "colab": {
          "base_uri": "https://localhost:8080/"
        },
        "id": "SuhuXTNIuEj4",
        "outputId": "4ce394da-4922-4e30-f1d2-3fb922d69adb"
      },
      "source": [
        "#Representative Network for Jazz musicians Network\n",
        "#Consider the GN Method as the community detection method and then generating the representative graph\n",
        "\n",
        "number_of_clusters = len(first_division)\n",
        "\n",
        "adjacency_matrix = np.zeros(shape=(number_of_clusters,number_of_clusters))\n",
        "\n",
        "for u,v,a in G.edges(data=True):\n",
        "  u_location=-1\n",
        "  v_location=-1\n",
        "  for i in range(0,number_of_clusters):\n",
        "    if(u in first_division[i]):\n",
        "      u_location=i;\n",
        "    if(v in first_division[i]):\n",
        "      v_location=i;\n",
        "  \n",
        "  #print(u,\" \", v, \" \",u_location,\" \", v_location)\n",
        "  if(u_location!=v_location):\n",
        "    adjacency_matrix[u_location][v_location]+=1;\n",
        "    adjacency_matrix[v_location][u_location]+=1;\n",
        "  \n",
        "print(adjacency_matrix)\n",
        "\n",
        "representative_network = nx.from_numpy_matrix(adjacency_matrix)\n",
        "nx.write_gexf(representative_network, \"jazz.gexf\")\n",
        "#representative_network = nx.from_numpy_matrix(adjacency_matrix, create_using=nx.DiGraph)\n",
        "#layout = nx.spring_layout(representative_network)\n",
        "#labels = nx.get_edge_attributes(representative_network, \"weight\")\n",
        "#nx.draw(representative_network, layout)\n",
        "#nx.draw_networkx_edge_labels(representative_network, pos=layout, edge_labels=labels)\n",
        "#plt.show()\n",
        "\n"
      ],
      "execution_count": null,
      "outputs": [
        {
          "output_type": "stream",
          "name": "stdout",
          "text": [
            "[[0. 1. 0. 0. 0.]\n",
            " [1. 0. 6. 1. 1.]\n",
            " [0. 6. 0. 0. 0.]\n",
            " [0. 1. 0. 0. 0.]\n",
            " [0. 1. 0. 0. 0.]]\n"
          ]
        }
      ]
    }
  ]
}