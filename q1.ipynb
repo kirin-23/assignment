{
  "nbformat": 4,
  "nbformat_minor": 0,
  "metadata": {
    "colab": {
      "name": "q1.ipynb",
      "provenance": [],
      "collapsed_sections": []
    },
    "kernelspec": {
      "name": "python3",
      "display_name": "Python 3"
    },
    "language_info": {
      "name": "python"
    }
  },
  "cells": [
    {
      "cell_type": "code",
      "metadata": {
        "id": "zlLiuufjwlyY"
      },
      "source": [
        "import networkx as nx\n",
        "import numpy as np\n",
        "import matplotlib.pyplot as plt\n",
        "from networkx.algorithms import community as nxcm\n",
        "from sklearn.cluster import KMeans\n",
        "from networkx import edge_betweenness_centrality as betweenness\n",
        "from itertools import chain, combinations\n",
        "from scipy.cluster.hierarchy import dendrogram"
      ],
      "execution_count": null,
      "outputs": []
    },
    {
      "cell_type": "code",
      "metadata": {
        "id": "D3xzxaCKxD_l"
      },
      "source": [
        "#Reading karate Club Network\n",
        "G = nx.read_gml('karate.gml', label = 'id')\n",
        "#Reading Dolphins network\n",
        "H = nx.read_gml('dolphins.gml', label = 'id')\n",
        "#Reading Jazz Netwrok\n",
        "fh=open(\"jazz.net\", \"rb\")\n",
        "I = nx.read_weighted_edgelist(fh)\n",
        "\n"
      ],
      "execution_count": null,
      "outputs": []
    }
  ]
}