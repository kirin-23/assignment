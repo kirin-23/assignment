{
  "nbformat": 4,
  "nbformat_minor": 0,
  "metadata": {
    "colab": {
      "name": "q4.ipynb",
      "provenance": [],
      "collapsed_sections": []
    },
    "kernelspec": {
      "display_name": "Python 3",
      "name": "python3"
    },
    "language_info": {
      "name": "python"
    }
  },
  "cells": [
    {
      "cell_type": "code",
      "metadata": {
        "id": "CMzFLHRf06Xh"
      },
      "source": [
        "import networkx as nx\n",
        "import numpy as np\n",
        "import matplotlib.pyplot as plt\n",
        "from networkx.algorithms import community as nxcm\n",
        "from sklearn.cluster import KMeans\n",
        "from networkx import edge_betweenness_centrality as betweenness\n",
        "from itertools import chain, combinations\n",
        "from scipy.cluster.hierarchy import dendrogram\n",
        "from datetime import datetime\n",
        "import numpy as np\n",
        "from scipy import stats\n",
        "\n",
        "\n"
      ],
      "execution_count": null,
      "outputs": []
    },
    {
      "cell_type": "code",
      "metadata": {
        "id": "lg7unZDL1TRz"
      },
      "source": [
        "G = nx.read_gml('karate.gml', label = 'id')\n",
        "H = nx.read_gml('dolphins.gml', label = 'id')\n",
        "fh=open(\"jazz.net\", \"rb\")\n",
        "I = nx.read_weighted_edgelist(fh)"
      ],
      "execution_count": null,
      "outputs": []
    },
    {
      "cell_type": "markdown",
      "metadata": {
        "id": "fdsl5tjYxpZz"
      },
      "source": [
        "# **Operating on Karate Club Graph**"
      ]
    },
    {
      "cell_type": "code",
      "metadata": {
        "id": "Bhh3smLNsWju"
      },
      "source": [
        "# Program for Girvan-Newman\n",
        "def most_central_edge(G):\n",
        "    centrality = betweenness(G, weight=\"weight\") \n",
        "    return max(centrality, key=centrality.get) #For finding edge betweenness and returning max value \n",
        "\n",
        "comp_GN = nxcm.girvan_newman(G, most_valuable_edge=most_central_edge)\n",
        "communities = list(nx.community.girvan_newman(G))"
      ],
      "execution_count": null,
      "outputs": []
    },
    {
      "cell_type": "code",
      "metadata": {
        "id": "NM2dX4myi-Fb"
      },
      "source": [
        "#\n",
        "node_id = 0\n",
        "init_node2community_dict = {node_id: communities[0][0].union(communities[0][1])}\n",
        "for comm in communities:\n",
        "    for subset in list(comm):\n",
        "        if subset not in init_node2community_dict.values():\n",
        "            node_id += 1\n",
        "            init_node2community_dict[node_id] = subset\n",
        "\n",
        "node_id_to_children = {e: [] for e in init_node2community_dict.keys()}\n",
        "for node_id1, node_id2 in combinations(init_node2community_dict.keys(), 2):\n",
        "    for node_id_parent, group in init_node2community_dict.items():\n",
        "        if len(init_node2community_dict[node_id1].intersection(init_node2community_dict[node_id2])) == 0 and group == init_node2community_dict[node_id1].union(init_node2community_dict[node_id2]):\n",
        "            node_id_to_children[node_id_parent].append(node_id1)\n",
        "            node_id_to_children[node_id_parent].append(node_id2)\n",
        "\n",
        "node_labels = dict()\n",
        "for node_id, group in init_node2community_dict.items():\n",
        "    if len(group) == 1:\n",
        "        node_labels[node_id] = list(group)[0]\n",
        "    else:\n",
        "        node_labels[node_id] = ''\n",
        "\n",
        "subset_rank_dict = dict()\n",
        "rank = 0\n",
        "for e in communities[::-1]:\n",
        "    for p in list(e):\n",
        "        if tuple(p) not in subset_rank_dict:\n",
        "            subset_rank_dict[tuple(sorted(p))] = rank\n",
        "            rank += 1\n",
        "subset_rank_dict[tuple(sorted(chain.from_iterable(communities[-1])))] = rank\n",
        "\n",
        "def get_merge_height(sub):\n",
        "    sub_tuple = tuple(sorted([node_labels[i] for i in sub]))\n",
        "    n = len(sub_tuple)\n",
        "    other_same_len_merges = {k: v for k, v in subset_rank_dict.items() if len(k) == n}\n",
        "    min_rank, max_rank = min(other_same_len_merges.values()), max(other_same_len_merges.values())\n",
        "    range = (max_rank-min_rank) if max_rank > min_rank else 1\n",
        "    return float(len(sub)) + 0.8 * (subset_rank_dict[sub_tuple] - min_rank) / range\n"
      ],
      "execution_count": null,
      "outputs": []
    },
    {
      "cell_type": "code",
      "metadata": {
        "colab": {
          "base_uri": "https://localhost:8080/",
          "height": 306
        },
        "id": "xo92OveEmBvO",
        "outputId": "1e3979cf-fae0-4d4e-e6c1-299b817993e0"
      },
      "source": [
        "M           = nx.DiGraph(node_id_to_children)\n",
        "nodes       = M.nodes()\n",
        "leaves      = set( n for n in nodes if M.out_degree(n) == 0 )\n",
        "inner_nodes = [ n for n in nodes if M.out_degree(n) > 0 ]\n",
        "\n",
        "# Compute the size of each subtree\n",
        "subtree = dict( (n, [n]) for n in leaves )\n",
        "for u in inner_nodes:\n",
        "    children = set()\n",
        "    node_list = list(node_id_to_children[u])\n",
        "    while len(node_list) > 0:\n",
        "        v = node_list.pop(0)\n",
        "        children.add( v )\n",
        "        node_list += node_id_to_children[v]\n",
        "    subtree[u] = sorted(children & leaves)\n",
        "\n",
        "inner_nodes.sort(key=lambda n: len(subtree[n])) # <-- order inner nodes ascending by subtree size, root is last\n",
        "\n",
        "# Construct the linkage matrix\n",
        "leaves = sorted(leaves)\n",
        "index  = dict( (tuple([n]), i) for i, n in enumerate(leaves) )\n",
        "Z = []\n",
        "k = len(leaves)\n",
        "for i, n in enumerate(inner_nodes):\n",
        "    children = node_id_to_children[n]\n",
        "    x = children[0]\n",
        "    for y in children[1:]:\n",
        "        z = tuple(sorted(subtree[x] + subtree[y]))\n",
        "        i, j = index[tuple(sorted(subtree[x]))], index[tuple(sorted(subtree[y]))]\n",
        "        Z.append([i, j, get_merge_height(subtree[n]), len(z)]) # <-- float is required by the dendrogram function\n",
        "        index[z] = k\n",
        "        subtree[z] = list(z)\n",
        "        x = z\n",
        "        k += 1\n",
        "\n",
        "plt.figure()\n",
        "x=dendrogram(Z, labels=[node_labels[node_id] for node_id in leaves])\n",
        "print(x)\n",
        "plt.show()"
      ],
      "execution_count": null,
      "outputs": [
        {
          "name": "stdout",
          "output_type": "stream",
          "text": [
            "{'icoord': [[25.0, 25.0, 35.0, 35.0], [15.0, 15.0, 30.0, 30.0], [5.0, 5.0, 22.5, 22.5], [13.75, 13.75, 45.0, 45.0], [29.375, 29.375, 55.0, 55.0], [42.1875, 42.1875, 65.0, 65.0], [53.59375, 53.59375, 75.0, 75.0], [64.296875, 64.296875, 85.0, 85.0], [74.6484375, 74.6484375, 95.0, 95.0], [105.0, 105.0, 115.0, 115.0], [135.0, 135.0, 145.0, 145.0], [125.0, 125.0, 140.0, 140.0], [110.0, 110.0, 132.5, 132.5], [84.82421875, 84.82421875, 121.25, 121.25], [155.0, 155.0, 165.0, 165.0], [160.0, 160.0, 175.0, 175.0], [195.0, 195.0, 205.0, 205.0], [185.0, 185.0, 200.0, 200.0], [167.5, 167.5, 192.5, 192.5], [245.0, 245.0, 255.0, 255.0], [235.0, 235.0, 250.0, 250.0], [225.0, 225.0, 242.5, 242.5], [233.75, 233.75, 265.0, 265.0], [215.0, 215.0, 249.375, 249.375], [232.1875, 232.1875, 275.0, 275.0], [253.59375, 253.59375, 285.0, 285.0], [269.296875, 269.296875, 295.0, 295.0], [282.1484375, 282.1484375, 305.0, 305.0], [293.57421875, 293.57421875, 315.0, 315.0], [304.287109375, 304.287109375, 325.0, 325.0], [180.0, 180.0, 314.6435546875, 314.6435546875], [247.32177734375, 247.32177734375, 335.0, 335.0], [103.037109375, 103.037109375, 291.160888671875, 291.160888671875]], 'dcoord': [[0.0, 2.236065573770492, 2.236065573770492, 0.0], [0.0, 3.2555555555555555, 3.2555555555555555, 2.236065573770492], [0.0, 4.0, 4.0, 3.2555555555555555], [4.0, 5.0, 5.0, 0.0], [5.0, 6.0, 6.0, 0.0], [6.0, 7.0, 7.0, 0.0], [7.0, 8.0, 8.0, 0.0], [8.0, 9.8, 9.8, 0.0], [9.8, 10.8, 10.8, 0.0], [0.0, 2.8, 2.8, 0.0], [0.0, 2.1049180327868853, 2.1049180327868853, 0.0], [0.0, 3.6333333333333333, 3.6333333333333333, 2.1049180327868853], [2.8, 5.8, 5.8, 3.6333333333333333], [10.8, 15.0, 15.0, 5.8], [0.0, 2.301639344262295, 2.301639344262295, 0.0], [2.301639344262295, 3.511111111111111, 3.511111111111111, 0.0], [0.0, 2.0262295081967214, 2.0262295081967214, 0.0], [0.0, 3.8, 3.8, 2.0262295081967214], [3.511111111111111, 6.8, 6.8, 3.8], [0.0, 2.0, 2.0, 0.0], [0.0, 3.0, 3.0, 2.0], [0.0, 4.8, 4.8, 3.0], [4.8, 5.207407407407407, 5.207407407407407, 0.0], [0.0, 6.070588235294117, 6.070588235294117, 5.207407407407407], [6.070588235294117, 7.8, 7.8, 0.0], [7.8, 8.8, 8.8, 0.0], [8.8, 9.0, 9.0, 0.0], [9.0, 10.0, 10.0, 0.0], [10.0, 11.0, 11.0, 0.0], [11.0, 12.0, 12.0, 0.0], [6.8, 18.0, 18.0, 12.0], [18.0, 19.0, 19.0, 0.0], [15.0, 34.0, 34.0, 19.0]], 'ivl': [1, 2, 4, 14, 8, 22, 20, 18, 13, 12, 5, 11, 6, 7, 17, 3, 29, 28, 25, 26, 32, 9, 24, 30, 33, 34, 31, 23, 21, 19, 16, 15, 27, 10], 'leaves': [16, 17, 20, 21, 15, 11, 9, 7, 3, 1, 22, 23, 24, 25, 26, 18, 19, 12, 28, 29, 30, 13, 27, 31, 32, 33, 14, 10, 8, 6, 5, 4, 2, 0], 'color_list': ['g', 'g', 'g', 'g', 'g', 'g', 'g', 'g', 'g', 'g', 'g', 'g', 'g', 'g', 'r', 'r', 'r', 'r', 'r', 'r', 'r', 'r', 'r', 'r', 'r', 'r', 'r', 'r', 'r', 'r', 'r', 'r', 'b']}\n"
          ]
        },
        {
          "data": {
            "image/png": "[encoded data removed]",
            "text/plain": [
              "<Figure size 432x288 with 1 Axes>"
            ]
          },
          "metadata": {},
          "output_type": "display_data"
        }
      ]
    },
    {
      "cell_type": "code",
      "metadata": {
        "colab": {
          "base_uri": "https://localhost:8080/",
          "height": 283
        },
        "id": "hitaNzolmRFS",
        "outputId": "0d059d6f-2845-4783-ed65-9e41963daf1f"
      },
      "source": [
        "#Inverse Skree Test for Karate Club Network\n",
        "cluster_number = []\n",
        "agg_level = []\n",
        "\n",
        "\n",
        "for i in range(len(x['dcoord'])):\n",
        "    cluster_number.append(i)\n",
        "    agg_level.append(max(x['dcoord'][i]))\n",
        "    \n",
        "agg_level = sorted(agg_level)\n",
        "cluster_number = sorted(cluster_number,reverse=True)\n",
        "\n",
        "plt.plot(cluster_number,agg_level,label='agglomerative level')\n",
        "plt.legend()"
      ],
      "execution_count": null,
      "outputs": [
        {
          "data": {
            "text/plain": [
              "<matplotlib.legend.Legend at 0x7fb81e7cb310>"
            ]
          },
          "execution_count": 47,
          "metadata": {},
          "output_type": "execute_result"
        },
        {
          "data": {
            "image/png": "[encoded data removed]",
            "text/plain": [
              "<Figure size 432x288 with 1 Axes>"
            ]
          },
          "metadata": {},
          "output_type": "display_data"
        }
      ]
    },
    {
      "cell_type": "code",
      "metadata": {
        "colab": {
          "base_uri": "https://localhost:8080/"
        },
        "id": "-_xMW4_e1nm9",
        "outputId": "e7213b45-7f8d-491c-d41e-a81ff9486f89"
      },
      "source": [
        "# Program for Girvan-Newman for karate club\n",
        "def most_central_edge(G):\n",
        "    centrality = betweenness(G, weight=\"weight\")\n",
        "    return max(centrality, key=centrality.get)\n",
        "a = np.zeros(10)\n",
        "for i in range(1,11):\n",
        "    start_time = datetime.now()\n",
        "    comp_GN = nxcm.girvan_newman(G, most_valuable_edge=most_central_edge)\n",
        "    communities = list(nx.community.girvan_newman(G))\n",
        "    end_time=datetime.now()\n",
        "    ##print(end_time-start_time)\n",
        "    runtime_algorithm_greivan_karate=(end_time-start_time).total_seconds() *1000\n",
        "    a[i-1]=runtime_algorithm_greivan_karate\n",
        "\n",
        "mode = stats.mode(a)\n",
        "print(\"time taken in milliseconds\")\n",
        "print(format(float(mode[0]), 'f'))\n",
        "first_division=next(comp_GN);\n",
        "communities = list(nx.community.girvan_newman(G))\n",
        "#print(\"-------------------------------------------------------\")"
      ],
      "execution_count": null,
      "outputs": [
        {
          "output_type": "stream",
          "name": "stdout",
          "text": [
            "time taken in milliseconds\n",
            "135.370000\n",
            "[{1, 2, 4, 5, 6, 7, 8, 11, 12, 13, 14, 17, 18, 20, 22}, {3, 9, 10, 15, 16, 19, 21, 23, 24, 25, 26, 27, 28, 29, 30, 31, 32, 33, 34}]\n"
          ]
        }
      ]
    },
    {
      "cell_type": "code",
      "metadata": {
        "colab": {
          "base_uri": "https://localhost:8080/"
        },
        "id": "beFQEHFTzFN2",
        "outputId": "09f63f42-63f0-4c71-a28c-cfdd0bf17dab"
      },
      "source": [
        "#Modularity Maximization for Karate Club\n",
        "a=np.zeros(5)\n",
        "for i in range(1,6):\n",
        "  start_time=datetime.now()\n",
        "  comp_MM = list(nxcm.modularity_max.greedy_modularity_communities(G))\n",
        "  end_time=datetime.now()\n",
        "  runtime_algorithm_modularity_maximization=(end_time-start_time).total_seconds() *1000\n",
        "  a[i-1]= runtime_algorithm_modularity_maximization\n",
        "mode = stats.mode(a)\n",
        "print(\"time taken\")\n",
        "print(format(float(mode[0]), 'f'))\n",
        "for i in range (0,len(comp_MM)):\n",
        "  print(sorted(comp_MM[i]))"
      ],
      "execution_count": null,
      "outputs": [
        {
          "output_type": "stream",
          "name": "stdout",
          "text": [
            "time taken\n",
            "5.950000\n",
            "[9, 15, 16, 19, 21, 23, 24, 25, 26, 27, 28, 29, 30, 31, 32, 33, 34]\n",
            "[2, 3, 4, 8, 10, 13, 14, 18, 22]\n",
            "[1, 5, 6, 7, 11, 12, 17, 20]\n"
          ]
        }
      ]
    },
    {
      "cell_type": "code",
      "metadata": {
        "id": "n2RIjrfWnx1k",
        "colab": {
          "base_uri": "https://localhost:8080/"
        },
        "outputId": "5ab21d5d-6fcc-4807-bda4-da09755a983e"
      },
      "source": [
        "#Spectral Clustering for Karate network\n",
        "K=len(first_division)\n",
        "a=np.zeros(9)\n",
        "for i in range(1,10):\n",
        "  start_time = datetime.now()\n",
        "  L = nx.laplacian_matrix(G)\n",
        "  e, v = np.linalg.eig(L.todense()) \n",
        "  idx = np.argsort(e)\n",
        "  e = e[idx]\n",
        "  v = v[:,idx]\n",
        "  v=v[:,1]\n",
        "  kmeans = KMeans(n_clusters=K, random_state=0).fit(v.reshape(-1,1))\n",
        "  ls = np.abs(kmeans.labels_)\n",
        "  end_time=datetime.now()\n",
        "  runtime_algorithm_spectral_clustering=(end_time-start_time).total_seconds() *1000\n",
        "  a[i-1]=runtime_algorithm_spectral_clustering\n",
        "mode = stats.mode(a)\n",
        "print(\"time taken\")\n",
        "print(format(float(mode[0]), 'f'))\n",
        "comp_SC=[]\n",
        "\n",
        "\n",
        "for i in range(0,K):\n",
        "  temp=[]\n",
        "  for j in range(0,len(ls)):\n",
        "    if(ls[j]==i):\n",
        "      temp.append(j+1)\n",
        "  comp_SC.append(temp)\n",
        "\n",
        "print(comp_SC)"
      ],
      "execution_count": null,
      "outputs": [
        {
          "output_type": "stream",
          "name": "stdout",
          "text": [
            "time taken\n",
            "13.363000\n",
            "[[2, 3, 4, 8, 9, 10, 14, 15, 16, 19, 20, 21, 23, 24, 25, 26, 27, 28, 29, 30, 31, 32, 33, 34], [1, 5, 6, 7, 11, 12, 13, 17, 18, 22]]\n"
          ]
        },
        {
          "output_type": "stream",
          "name": "stderr",
          "text": [
            "/usr/local/lib/python3.7/dist-packages/sklearn/utils/validation.py:590: FutureWarning: np.matrix usage is deprecated in 1.0 and will raise a TypeError in 1.2. Please convert to a numpy array with np.asarray. For more information see: https://numpy.org/doc/stable/reference/generated/numpy.matrix.html\n",
            "  FutureWarning,\n",
            "/usr/local/lib/python3.7/dist-packages/sklearn/utils/validation.py:590: FutureWarning: np.matrix usage is deprecated in 1.0 and will raise a TypeError in 1.2. Please convert to a numpy array with np.asarray. For more information see: https://numpy.org/doc/stable/reference/generated/numpy.matrix.html\n",
            "  FutureWarning,\n",
            "/usr/local/lib/python3.7/dist-packages/sklearn/utils/validation.py:590: FutureWarning: np.matrix usage is deprecated in 1.0 and will raise a TypeError in 1.2. Please convert to a numpy array with np.asarray. For more information see: https://numpy.org/doc/stable/reference/generated/numpy.matrix.html\n",
            "  FutureWarning,\n",
            "/usr/local/lib/python3.7/dist-packages/sklearn/utils/validation.py:590: FutureWarning: np.matrix usage is deprecated in 1.0 and will raise a TypeError in 1.2. Please convert to a numpy array with np.asarray. For more information see: https://numpy.org/doc/stable/reference/generated/numpy.matrix.html\n",
            "  FutureWarning,\n",
            "/usr/local/lib/python3.7/dist-packages/sklearn/utils/validation.py:590: FutureWarning: np.matrix usage is deprecated in 1.0 and will raise a TypeError in 1.2. Please convert to a numpy array with np.asarray. For more information see: https://numpy.org/doc/stable/reference/generated/numpy.matrix.html\n",
            "  FutureWarning,\n",
            "/usr/local/lib/python3.7/dist-packages/sklearn/utils/validation.py:590: FutureWarning: np.matrix usage is deprecated in 1.0 and will raise a TypeError in 1.2. Please convert to a numpy array with np.asarray. For more information see: https://numpy.org/doc/stable/reference/generated/numpy.matrix.html\n",
            "  FutureWarning,\n",
            "/usr/local/lib/python3.7/dist-packages/sklearn/utils/validation.py:590: FutureWarning: np.matrix usage is deprecated in 1.0 and will raise a TypeError in 1.2. Please convert to a numpy array with np.asarray. For more information see: https://numpy.org/doc/stable/reference/generated/numpy.matrix.html\n",
            "  FutureWarning,\n",
            "/usr/local/lib/python3.7/dist-packages/sklearn/utils/validation.py:590: FutureWarning: np.matrix usage is deprecated in 1.0 and will raise a TypeError in 1.2. Please convert to a numpy array with np.asarray. For more information see: https://numpy.org/doc/stable/reference/generated/numpy.matrix.html\n",
            "  FutureWarning,\n",
            "/usr/local/lib/python3.7/dist-packages/sklearn/utils/validation.py:590: FutureWarning: np.matrix usage is deprecated in 1.0 and will raise a TypeError in 1.2. Please convert to a numpy array with np.asarray. For more information see: https://numpy.org/doc/stable/reference/generated/numpy.matrix.html\n",
            "  FutureWarning,\n"
          ]
        }
      ]
    },
    {
      "cell_type": "markdown",
      "metadata": {
        "id": "uwjMsyEnyS-K"
      },
      "source": [
        "**Karate Club Statistics**"
      ]
    },
    {
      "cell_type": "code",
      "metadata": {
        "colab": {
          "base_uri": "https://localhost:8080/"
        },
        "id": "9FUptHXEzvtU",
        "outputId": "1f07c56f-0a20-47d3-cc06-9247cedec05d"
      },
      "source": [
        "#no of communities of Karate Club\n",
        "print(\"Karate Club\")\n",
        "print(\"Number of communities using Girvan Newman - \", len(first_division))\n",
        "print(\"Number of communities using Modularity Maximization - \", len(comp_MM))\n",
        "print(\"Number of communities using Spectral Clusternig - \", K)"
      ],
      "execution_count": null,
      "outputs": [
        {
          "output_type": "stream",
          "name": "stdout",
          "text": [
            "Karate Club\n",
            "Number of communities using Girvan Newman -  2\n",
            "Number of communities using Modularity Maximization -  3\n",
            "Number of communities using Spectral Clusternig -  2\n"
          ]
        }
      ]
    },
    {
      "cell_type": "code",
      "metadata": {
        "colab": {
          "base_uri": "https://localhost:8080/"
        },
        "id": "_lblBCcczwSF",
        "outputId": "cd3e7171-68ec-4c22-90a8-85fa125a9e1e"
      },
      "source": [
        "# modularity score for Karate Club \n",
        "print(\"Karate Club\")\n",
        "print(\"Modularity Score For Girvan Newman - \", nx.algorithms.community.quality.modularity(G,first_division))\n",
        "print(\"Modularity Score For Modularity Maximization - \", nx.algorithms.community.quality.modularity(G,comp_MM))\n",
        "print(\"Modularity Score For Spectral Clustering - \", nx.algorithms.community.quality.modularity(G,comp_SC))"
      ],
      "execution_count": null,
      "outputs": [
        {
          "output_type": "stream",
          "name": "stdout",
          "text": [
            "Karate Club\n",
            "Modularity Score For Girvan Newman -  0.3599605522682445\n",
            "Modularity Score For Modularity Maximization -  0.3806706114398422\n",
            "Modularity Score For Spectral Clustering -  0.233974358974359\n"
          ]
        }
      ]
    },
    {
      "cell_type": "markdown",
      "metadata": {
        "id": "vYI3aD6rx3JS"
      },
      "source": [
        "# **Operating on Dolphins Social Network**"
      ]
    },
    {
      "cell_type": "code",
      "metadata": {
        "id": "cO6akw920IxV"
      },
      "source": [
        "# Program for Girvan-Newman\n",
        "def most_central_edge(G):\n",
        "    centrality = betweenness(G, weight=\"weight\") \n",
        "    return max(centrality, key=centrality.get) #For finding edge betweenness and returning max value \n",
        "\n",
        "comp_GN = nxcm.girvan_newman(H, most_valuable_edge=most_central_edge)\n",
        "communities = list(nx.community.girvan_newman(H))"
      ],
      "execution_count": null,
      "outputs": []
    },
    {
      "cell_type": "code",
      "metadata": {
        "id": "Syc5UPL5qCYz"
      },
      "source": [
        "\n",
        "node_id = 0\n",
        "init_node2community_dict = {node_id: communities[0][0].union(communities[0][1])}\n",
        "for comm in communities:\n",
        "    for subset in list(comm):\n",
        "        if subset not in init_node2community_dict.values():\n",
        "            node_id += 1\n",
        "            init_node2community_dict[node_id] = subset\n",
        "\n",
        "node_id_to_children = {e: [] for e in init_node2community_dict.keys()}\n",
        "for node_id1, node_id2 in combinations(init_node2community_dict.keys(), 2):\n",
        "    for node_id_parent, group in init_node2community_dict.items():\n",
        "        if len(init_node2community_dict[node_id1].intersection(init_node2community_dict[node_id2])) == 0 and group == init_node2community_dict[node_id1].union(init_node2community_dict[node_id2]):\n",
        "            node_id_to_children[node_id_parent].append(node_id1)\n",
        "            node_id_to_children[node_id_parent].append(node_id2)\n",
        "\n",
        "node_labels = dict()\n",
        "for node_id, group in init_node2community_dict.items():\n",
        "    if len(group) == 1:\n",
        "        node_labels[node_id] = list(group)[0]\n",
        "    else:\n",
        "        node_labels[node_id] = ''\n",
        "\n",
        "subset_rank_dict = dict()\n",
        "rank = 0\n",
        "for e in communities[::-1]:\n",
        "    for p in list(e):\n",
        "        if tuple(p) not in subset_rank_dict:\n",
        "            subset_rank_dict[tuple(sorted(p))] = rank\n",
        "            rank += 1\n",
        "subset_rank_dict[tuple(sorted(chain.from_iterable(communities[-1])))] = rank\n",
        "\n",
        "def get_merge_height(sub):\n",
        "    sub_tuple = tuple(sorted([node_labels[i] for i in sub]))\n",
        "    n = len(sub_tuple)\n",
        "    other_same_len_merges = {k: v for k, v in subset_rank_dict.items() if len(k) == n}\n",
        "    min_rank, max_rank = min(other_same_len_merges.values()), max(other_same_len_merges.values())\n",
        "    range = (max_rank-min_rank) if max_rank > min_rank else 1\n",
        "    return float(len(sub)) + 0.8 * (subset_rank_dict[sub_tuple] - min_rank) / range\n"
      ],
      "execution_count": null,
      "outputs": []
    },
    {
      "cell_type": "code",
      "metadata": {
        "colab": {
          "base_uri": "https://localhost:8080/",
          "height": 300
        },
        "id": "76M6QQpgqOQv",
        "outputId": "d580548c-735c-4b88-c296-cdca08be2018"
      },
      "source": [
        "\n",
        "M           = nx.DiGraph(node_id_to_children)\n",
        "nodes       = M.nodes()\n",
        "leaves      = set( n for n in nodes if M.out_degree(n) == 0 )\n",
        "inner_nodes = [ n for n in nodes if M.out_degree(n) > 0 ]\n",
        "\n",
        "# Compute the size of each subtree\n",
        "subtree = dict( (n, [n]) for n in leaves )\n",
        "for u in inner_nodes:\n",
        "    children = set()\n",
        "    node_list = list(node_id_to_children[u])\n",
        "    while len(node_list) > 0:\n",
        "        v = node_list.pop(0)\n",
        "        children.add( v )\n",
        "        node_list += node_id_to_children[v]\n",
        "    subtree[u] = sorted(children & leaves)\n",
        "\n",
        "inner_nodes.sort(key=lambda n: len(subtree[n])) # <-- order inner nodes ascending by subtree size, root is last\n",
        "\n",
        "# Construct the linkage matrix\n",
        "leaves = sorted(leaves)\n",
        "index  = dict( (tuple([n]), i) for i, n in enumerate(leaves) )\n",
        "Z = []\n",
        "k = len(leaves)\n",
        "for i, n in enumerate(inner_nodes):\n",
        "    children = node_id_to_children[n]\n",
        "    x = children[0]\n",
        "    for y in children[1:]:\n",
        "        z = tuple(sorted(subtree[x] + subtree[y]))\n",
        "        i, j = index[tuple(sorted(subtree[x]))], index[tuple(sorted(subtree[y]))]\n",
        "        Z.append([i, j, get_merge_height(subtree[n]), len(z)]) # <-- float is required by the dendrogram function\n",
        "        index[z] = k\n",
        "        subtree[z] = list(z)\n",
        "        x = z\n",
        "        k += 1\n",
        "\n",
        "plt.figure()\n",
        "x=dendrogram(Z, labels=[node_labels[node_id] for node_id in leaves])\n",
        "print(x)\n",
        "plt.show()"
      ],
      "execution_count": null,
      "outputs": [
        {
          "output_type": "stream",
          "name": "stdout",
          "text": [
            "{'icoord': [[25.0, 25.0, 35.0, 35.0], [15.0, 15.0, 30.0, 30.0], [5.0, 5.0, 22.5, 22.5], [13.75, 13.75, 45.0, 45.0], [29.375, 29.375, 55.0, 55.0], [42.1875, 42.1875, 65.0, 65.0], [85.0, 85.0, 95.0, 95.0], [75.0, 75.0, 90.0, 90.0], [135.0, 135.0, 145.0, 145.0], [125.0, 125.0, 140.0, 140.0], [115.0, 115.0, 132.5, 132.5], [123.75, 123.75, 155.0, 155.0], [139.375, 139.375, 165.0, 165.0], [152.1875, 152.1875, 175.0, 175.0], [163.59375, 163.59375, 185.0, 185.0], [195.0, 195.0, 205.0, 205.0], [174.296875, 174.296875, 200.0, 200.0], [187.1484375, 187.1484375, 215.0, 215.0], [201.07421875, 201.07421875, 225.0, 225.0], [213.037109375, 213.037109375, 235.0, 235.0], [245.0, 245.0, 255.0, 255.0], [224.0185546875, 224.0185546875, 250.0, 250.0], [237.00927734375, 237.00927734375, 265.0, 265.0], [105.0, 105.0, 251.004638671875, 251.004638671875], [82.5, 82.5, 178.0023193359375, 178.0023193359375], [335.0, 335.0, 345.0, 345.0], [325.0, 325.0, 340.0, 340.0], [315.0, 315.0, 332.5, 332.5], [305.0, 305.0, 323.75, 323.75], [314.375, 314.375, 355.0, 355.0], [295.0, 295.0, 334.6875, 334.6875], [314.84375, 314.84375, 365.0, 365.0], [339.921875, 339.921875, 375.0, 375.0], [357.4609375, 357.4609375, 385.0, 385.0], [285.0, 285.0, 371.23046875, 371.23046875], [275.0, 275.0, 328.115234375, 328.115234375], [130.25115966796875, 130.25115966796875, 301.5576171875, 301.5576171875], [53.59375, 53.59375, 215.90438842773438, 215.90438842773438], [395.0, 395.0, 405.0, 405.0], [134.7490692138672, 134.7490692138672, 400.0, 400.0], [435.0, 435.0, 445.0, 445.0], [425.0, 425.0, 440.0, 440.0], [415.0, 415.0, 432.5, 432.5], [455.0, 455.0, 465.0, 465.0], [423.75, 423.75, 460.0, 460.0], [515.0, 515.0, 525.0, 525.0], [505.0, 505.0, 520.0, 520.0], [495.0, 495.0, 512.5, 512.5], [485.0, 485.0, 503.75, 503.75], [494.375, 494.375, 535.0, 535.0], [475.0, 475.0, 514.6875, 514.6875], [494.84375, 494.84375, 545.0, 545.0], [519.921875, 519.921875, 555.0, 555.0], [537.4609375, 537.4609375, 565.0, 565.0], [441.875, 441.875, 551.23046875, 551.23046875], [575.0, 575.0, 585.0, 585.0], [580.0, 580.0, 595.0, 595.0], [496.552734375, 496.552734375, 587.5, 587.5], [605.0, 605.0, 615.0, 615.0], [542.0263671875, 542.0263671875, 610.0, 610.0], [267.3745346069336, 267.3745346069336, 576.01318359375, 576.01318359375]], 'dcoord': [[0.0, 2.0, 2.0, 0.0], [0.0, 3.0859701492537313, 3.0859701492537313, 2.0], [0.0, 4.221818181818182, 4.221818181818182, 3.0859701492537313], [4.221818181818182, 5.8, 5.8, 0.0], [5.8, 6.553846153846154, 6.553846153846154, 0.0], [6.553846153846154, 7.8, 7.8, 0.0], [0.0, 2.1658792650918635, 2.1658792650918635, 0.0], [0.0, 3.8, 3.8, 2.1658792650918635], [0.0, 2.016797900262467, 2.016797900262467, 0.0], [0.0, 3.0525373134328357, 3.0525373134328357, 2.016797900262467], [0.0, 4.265454545454546, 4.265454545454546, 3.0525373134328357], [4.265454545454546, 5.241509433962264, 5.241509433962264, 0.0], [5.241509433962264, 6.079120879120879, 6.079120879120879, 0.0], [6.079120879120879, 7.0, 7.0, 0.0], [7.0, 8.0, 8.0, 0.0], [0.0, 2.4808398950131236, 2.4808398950131236, 0.0], [8.0, 10.0, 10.0, 2.4808398950131236], [10.0, 11.0, 11.0, 0.0], [11.0, 12.0, 12.0, 0.0], [12.0, 13.0, 13.0, 0.0], [0.0, 2.7076115485564305, 2.7076115485564305, 0.0], [13.0, 15.0, 15.0, 2.7076115485564305], [15.0, 16.0, 16.0, 0.0], [0.0, 17.0, 17.0, 16.0], [3.8, 20.0, 20.0, 17.0], [0.0, 2.0377952755905513, 2.0377952755905513, 0.0], [0.0, 3.0023880597014925, 3.0023880597014925, 2.0377952755905513], [0.0, 4.0, 4.0, 3.0023880597014925], [0.0, 5.0, 5.0, 4.0], [5.0, 6.0, 6.0, 0.0], [0.0, 7.145882352941176, 7.145882352941176, 6.0], [7.145882352941176, 8.666666666666666, 8.666666666666666, 0.0], [8.666666666666666, 9.8, 9.8, 0.0], [9.8, 10.487804878048781, 10.487804878048781, 0.0], [0.0, 11.8, 11.8, 10.487804878048781], [0.0, 12.8, 12.8, 11.8], [20.0, 32.0, 32.0, 12.8], [7.8, 39.0, 39.0, 32.0], [0.0, 2.8, 2.8, 0.0], [39.0, 41.0, 41.0, 2.8], [0.0, 2.05249343832021, 2.05249343832021, 0.0], [0.0, 3.0, 3.0, 2.05249343832021], [0.0, 4.8, 4.8, 3.0], [0.0, 2.552230971128609, 2.552230971128609, 0.0], [4.8, 6.8, 6.8, 2.552230971128609], [0.0, 2.008398950131234, 2.008398950131234, 0.0], [0.0, 3.0883582089552237, 3.0883582089552237, 2.008398950131234], [0.0, 4.290909090909091, 4.290909090909091, 3.0883582089552237], [0.0, 5.29433962264151, 5.29433962264151, 4.290909090909091], [5.29433962264151, 6.14945054945055, 6.14945054945055, 0.0], [0.0, 7.216470588235294, 7.216470588235294, 6.14945054945055], [7.216470588235294, 8.8, 8.8, 0.0], [8.8, 9.0, 9.0, 0.0], [9.0, 10.8, 10.8, 0.0], [6.8, 16.8, 16.8, 10.8], [0.0, 2.1028871391076116, 2.1028871391076116, 0.0], [2.1028871391076116, 3.351044776119403, 3.351044776119403, 0.0], [16.8, 19.0, 19.0, 3.351044776119403], [0.0, 2.0335958005249344, 2.0335958005249344, 0.0], [19.0, 21.0, 21.0, 2.0335958005249344], [41.0, 62.0, 62.0, 21.0]], 'ivl': [0, 10, 42, 47, 30, 2, 28, 3, 8, 59, 12, 14, 33, 37, 43, 40, 34, 38, 16, 20, 50, 52, 44, 36, 46, 49, 58, 4, 11, 15, 18, 24, 29, 45, 51, 21, 23, 55, 35, 53, 61, 1, 25, 26, 27, 7, 19, 5, 6, 9, 13, 41, 57, 54, 56, 48, 39, 17, 31, 22, 32, 60], 'leaves': [27, 34, 54, 55, 20, 14, 12, 28, 31, 32, 0, 36, 49, 50, 51, 25, 22, 17, 15, 40, 41, 10, 9, 7, 58, 59, 1, 2, 3, 18, 39, 42, 46, 56, 57, 26, 13, 8, 4, 60, 61, 23, 43, 44, 45, 29, 30, 16, 24, 33, 35, 52, 53, 21, 11, 6, 5, 37, 38, 19, 47, 48], 'color_list': ['g', 'g', 'g', 'g', 'g', 'g', 'g', 'g', 'g', 'g', 'g', 'g', 'g', 'g', 'g', 'g', 'g', 'g', 'g', 'g', 'g', 'g', 'g', 'g', 'g', 'g', 'g', 'g', 'g', 'g', 'g', 'g', 'g', 'g', 'g', 'g', 'g', 'g', 'g', 'g', 'r', 'r', 'r', 'r', 'r', 'r', 'r', 'r', 'r', 'r', 'r', 'r', 'r', 'r', 'r', 'r', 'r', 'r', 'r', 'r', 'b']}\n"
          ]
        },
        {
          "output_type": "display_data",
          "data": {
            "image/png": "[encoded data removed]",
            "text/plain": [
              "<Figure size 432x288 with 1 Axes>"
            ]
          },
          "metadata": {
            "needs_background": "light"
          }
        }
      ]
    },
    {
      "cell_type": "code",
      "metadata": {
        "colab": {
          "base_uri": "https://localhost:8080/",
          "height": 282
        },
        "id": "6rInhO6QqZRr",
        "outputId": "d2a2ff67-46c7-4ad3-bf4f-514299c0949a"
      },
      "source": [
        "#Inverse Skree Test for Dolphins Network\n",
        "cluster_number = []\n",
        "agg_level = []\n",
        "\n",
        "\n",
        "for i in range(len(x['dcoord'])):\n",
        "    cluster_number.append(i)\n",
        "    agg_level.append(max(x['dcoord'][i]))\n",
        "    \n",
        "agg_level = sorted(agg_level)\n",
        "cluster_number = sorted(cluster_number,reverse=True)\n",
        "\n",
        "plt.plot(cluster_number,agg_level,label='agglomerative level')\n",
        "plt.legend()"
      ],
      "execution_count": null,
      "outputs": [
        {
          "output_type": "execute_result",
          "data": {
            "text/plain": [
              "<matplotlib.legend.Legend at 0x7f9f01ebf610>"
            ]
          },
          "metadata": {},
          "execution_count": 43
        },
        {
          "output_type": "display_data",
          "data": {
            "image/png": "[encoded data removed]",
            "text/plain": [
              "<Figure size 432x288 with 1 Axes>"
            ]
          },
          "metadata": {
            "needs_background": "light"
          }
        }
      ]
    },
    {
      "cell_type": "code",
      "metadata": {
        "colab": {
          "base_uri": "https://localhost:8080/"
        },
        "id": "O_JqloRs1p6W",
        "outputId": "055a745f-182d-448f-ece8-202a28004912"
      },
      "source": [
        "#Girvan-Newman for Dolphins network\n",
        "def most_central_edge(G):\n",
        "    centrality = betweenness(G, weight=\"weight\")\n",
        "    return max(centrality, key=centrality.get)\n",
        "a = np.zeros(10)\n",
        "for i in range(1,11):\n",
        "    start_time = datetime.now()\n",
        "    comp_GN = nxcm.girvan_newman(H, most_valuable_edge=most_central_edge)\n",
        "    communities = list(nx.community.girvan_newman(H))\n",
        "    end_time=datetime.now()\n",
        "    ##print(end_time-start_time)\n",
        "    runtime_algorithm_greivan_karate=(end_time-start_time).total_seconds() *1000\n",
        "    a[i-1]=runtime_algorithm_greivan_karate\n",
        "\n",
        "mode = stats.mode(a)\n",
        "print(\"time taken\")\n",
        "print(format(float(mode[0]), 'f'))\n",
        "first_division=communities[2]\n",
        "print(sorted(first_division))"
      ],
      "execution_count": null,
      "outputs": [
        {
          "output_type": "stream",
          "name": "stdout",
          "text": [
            "time taken\n",
            "621.827000\n",
            "[{0, 2, 10, 42, 47, 28, 30}, {1, 5, 6, 7, 9, 13, 17, 19, 22, 25, 26, 27, 31, 32, 39, 41, 48, 54, 56, 57, 60}, {3, 4, 8, 11, 12, 14, 15, 16, 18, 20, 21, 23, 24, 29, 33, 34, 35, 36, 37, 38, 40, 43, 44, 45, 46, 49, 50, 51, 52, 55, 58, 59}, {61, 53}]\n"
          ]
        }
      ]
    },
    {
      "cell_type": "code",
      "metadata": {
        "id": "peVzv2XTrLhJ",
        "colab": {
          "base_uri": "https://localhost:8080/"
        },
        "outputId": "0f96bdfc-ff3a-423b-e93a-a78297143045"
      },
      "source": [
        "#Modularity Maximization for Dolphins network\n",
        "a=np.zeros(5)\n",
        "for i in range(1,6):\n",
        "  start_time=datetime.now()\n",
        "  comp_MM = list(nxcm.modularity_max.greedy_modularity_communities(H))\n",
        "  end_time=datetime.now()\n",
        "  runtime_algorithm_modularity_maximization=(end_time-start_time).total_seconds() *1000\n",
        "  a[i-1]= runtime_algorithm_modularity_maximization\n",
        "mode = stats.mode(a)\n",
        "print(\"time taken in milliseconds\")\n",
        "print(format(float(mode[0]), 'f'))\n",
        "for i in range (0,len(comp_MM)):\n",
        "  print(sorted(comp_MM[i]))\n",
        "print(comp_MM)"
      ],
      "execution_count": null,
      "outputs": [
        {
          "output_type": "stream",
          "name": "stdout",
          "text": [
            "time taken in milliseconds\n",
            "12.414000\n",
            "[0, 2, 10, 12, 14, 16, 20, 33, 34, 37, 38, 40, 42, 43, 44, 46, 47, 49, 50, 52, 53, 58, 61]\n",
            "[1, 5, 6, 7, 9, 13, 17, 19, 22, 25, 26, 27, 28, 30, 31, 32, 41, 48, 54, 56, 57, 60]\n",
            "[3, 4, 8, 11, 15, 18, 21, 23, 24, 29, 35, 45, 51, 55, 59]\n",
            "[36, 39]\n",
            "[frozenset({0, 2, 10, 12, 14, 16, 20, 33, 34, 37, 38, 40, 42, 43, 44, 46, 47, 49, 50, 52, 53, 58, 61}), frozenset({1, 5, 6, 7, 9, 13, 17, 19, 22, 25, 26, 27, 28, 30, 31, 32, 41, 48, 54, 56, 57, 60}), frozenset({35, 3, 4, 8, 11, 45, 15, 18, 51, 21, 55, 23, 24, 59, 29}), frozenset({36, 39})]\n"
          ]
        }
      ]
    },
    {
      "cell_type": "code",
      "metadata": {
        "colab": {
          "base_uri": "https://localhost:8080/"
        },
        "id": "rEKlzpDFyKOJ",
        "outputId": "42aef8a6-79cd-44a7-d8bd-ff29585fc2f9"
      },
      "source": [
        "#Spectral Clustering for DOlphins\n",
        "K=4\n",
        "a=np.zeros(9)\n",
        "for i in range(1,10):\n",
        "  start_time = datetime.now()\n",
        "  L = nx.laplacian_matrix(H)\n",
        "  e, v = np.linalg.eig(L.todense()) \n",
        "  idx = np.argsort(e)\n",
        "  e = e[idx]\n",
        "  v = v[:,idx]\n",
        "  v=v[:,1]\n",
        "  kmeans = KMeans(n_clusters=K, random_state=0).fit(v.reshape(-1,1))\n",
        "  ls = np.abs(kmeans.labels_)\n",
        "  print(ls)\n",
        "  end_time=datetime.now()\n",
        "  runtime_algorithm_spectral_clustering=(end_time-start_time).total_seconds() *1000\n",
        "  a[i-1]=runtime_algorithm_spectral_clustering\n",
        "mode = stats.mode(a)\n",
        "print(\"time taken\")\n",
        "print(format(float(mode[0]), 'f'))\n",
        "comp_SC=[]\n",
        "for i in range(0,K):\n",
        "  print(np.where(ls==i)[0]+1)\n",
        "\n",
        "\n",
        "for i in range(0,K):\n",
        "  temp=[]\n",
        "  for j in range(0,len(ls)):\n",
        "    if(ls[j]==i):\n",
        "      temp.append(j+1)\n",
        "  comp_SC.append(temp)\n",
        "\n",
        "print(comp_SC)"
      ],
      "execution_count": null,
      "outputs": [
        {
          "output_type": "stream",
          "name": "stderr",
          "text": [
            "/usr/local/lib/python3.7/dist-packages/sklearn/utils/validation.py:590: FutureWarning: np.matrix usage is deprecated in 1.0 and will raise a TypeError in 1.2. Please convert to a numpy array with np.asarray. For more information see: https://numpy.org/doc/stable/reference/generated/numpy.matrix.html\n",
            "  FutureWarning,\n",
            "/usr/local/lib/python3.7/dist-packages/sklearn/utils/validation.py:590: FutureWarning: np.matrix usage is deprecated in 1.0 and will raise a TypeError in 1.2. Please convert to a numpy array with np.asarray. For more information see: https://numpy.org/doc/stable/reference/generated/numpy.matrix.html\n",
            "  FutureWarning,\n",
            "/usr/local/lib/python3.7/dist-packages/sklearn/utils/validation.py:590: FutureWarning: np.matrix usage is deprecated in 1.0 and will raise a TypeError in 1.2. Please convert to a numpy array with np.asarray. For more information see: https://numpy.org/doc/stable/reference/generated/numpy.matrix.html\n",
            "  FutureWarning,\n",
            "/usr/local/lib/python3.7/dist-packages/sklearn/utils/validation.py:590: FutureWarning: np.matrix usage is deprecated in 1.0 and will raise a TypeError in 1.2. Please convert to a numpy array with np.asarray. For more information see: https://numpy.org/doc/stable/reference/generated/numpy.matrix.html\n",
            "  FutureWarning,\n",
            "/usr/local/lib/python3.7/dist-packages/sklearn/utils/validation.py:590: FutureWarning: np.matrix usage is deprecated in 1.0 and will raise a TypeError in 1.2. Please convert to a numpy array with np.asarray. For more information see: https://numpy.org/doc/stable/reference/generated/numpy.matrix.html\n",
            "  FutureWarning,\n",
            "/usr/local/lib/python3.7/dist-packages/sklearn/utils/validation.py:590: FutureWarning: np.matrix usage is deprecated in 1.0 and will raise a TypeError in 1.2. Please convert to a numpy array with np.asarray. For more information see: https://numpy.org/doc/stable/reference/generated/numpy.matrix.html\n",
            "  FutureWarning,\n"
          ]
        },
        {
          "output_type": "stream",
          "name": "stdout",
          "text": [
            "[2 3 2 2 2 1 1 3 2 1 2 2 2 1 2 2 2 1 2 3 2 2 1 2 2 1 3 3 0 2 0 1 1 2 2 2 0\n",
            " 2 2 3 2 1 2 2 2 2 2 0 1 2 2 2 2 2 3 2 1 1 2 2 1 2]\n",
            "[2 3 2 2 2 1 1 3 2 1 2 2 2 1 2 2 2 1 2 3 2 2 1 2 2 1 3 3 0 2 0 1 1 2 2 2 0\n",
            " 2 2 3 2 1 2 2 2 2 2 0 1 2 2 2 2 2 3 2 1 1 2 2 1 2]\n",
            "[2 3 2 2 2 1 1 3 2 1 2 2 2 1 2 2 2 1 2 3 2 2 1 2 2 1 3 3 0 2 0 1 1 2 2 2 0\n",
            " 2 2 3 2 1 2 2 2 2 2 0 1 2 2 2 2 2 3 2 1 1 2 2 1 2]\n",
            "[2 3 2 2 2 1 1 3 2 1 2 2 2 1 2 2 2 1 2 3 2 2 1 2 2 1 3 3 0 2 0 1 1 2 2 2 0\n",
            " 2 2 3 2 1 2 2 2 2 2 0 1 2 2 2 2 2 3 2 1 1 2 2 1 2]\n",
            "[2 3 2 2 2 1 1 3 2 1 2 2 2 1 2 2 2 1 2 3 2 2 1 2 2 1 3 3 0 2 0 1 1 2 2 2 0\n",
            " 2 2 3 2 1 2 2 2 2 2 0 1 2 2 2 2 2 3 2 1 1 2 2 1 2]\n",
            "[2 3 2 2 2 1 1 3 2 1 2 2 2 1 2 2 2 1 2 3 2 2 1 2 2 1 3 3 0 2 0 1 1 2 2 2 0\n",
            " 2 2 3 2 1 2 2 2 2 2 0 1 2 2 2 2 2 3 2 1 1 2 2 1 2]\n",
            "[2 3 2 2 2 1 1 3 2 1 2 2 2 1 2 2 2 1 2 3 2 2 1 2 2 1 3 3 0 2 0 1 1 2 2 2 0\n",
            " 2 2 3 2 1 2 2 2 2 2 0 1 2 2 2 2 2 3 2 1 1 2 2 1 2]\n",
            "[2 3 2 2 2 1 1 3 2 1 2 2 2 1 2 2 2 1 2 3 2 2 1 2 2 1 3 3 0 2 0 1 1 2 2 2 0\n",
            " 2 2 3 2 1 2 2 2 2 2 0 1 2 2 2 2 2 3 2 1 1 2 2 1 2]\n",
            "[2 3 2 2 2 1 1 3 2 1 2 2 2 1 2 2 2 1 2 3 2 2 1 2 2 1 3 3 0 2 0 1 1 2 2 2 0\n",
            " 2 2 3 2 1 2 2 2 2 2 0 1 2 2 2 2 2 3 2 1 1 2 2 1 2]\n",
            "time taken\n",
            "22.894000\n",
            "[29 31 37 48]\n",
            "[ 6  7 10 14 18 23 26 32 33 42 49 57 58 61]\n",
            "[ 1  3  4  5  9 11 12 13 15 16 17 19 21 22 24 25 30 34 35 36 38 39 41 43\n",
            " 44 45 46 47 50 51 52 53 54 56 59 60 62]\n",
            "[ 2  8 20 27 28 40 55]\n",
            "[[29, 31, 37, 48], [6, 7, 10, 14, 18, 23, 26, 32, 33, 42, 49, 57, 58, 61], [1, 3, 4, 5, 9, 11, 12, 13, 15, 16, 17, 19, 21, 22, 24, 25, 30, 34, 35, 36, 38, 39, 41, 43, 44, 45, 46, 47, 50, 51, 52, 53, 54, 56, 59, 60, 62], [2, 8, 20, 27, 28, 40, 55]]\n"
          ]
        },
        {
          "output_type": "stream",
          "name": "stderr",
          "text": [
            "/usr/local/lib/python3.7/dist-packages/sklearn/utils/validation.py:590: FutureWarning: np.matrix usage is deprecated in 1.0 and will raise a TypeError in 1.2. Please convert to a numpy array with np.asarray. For more information see: https://numpy.org/doc/stable/reference/generated/numpy.matrix.html\n",
            "  FutureWarning,\n",
            "/usr/local/lib/python3.7/dist-packages/sklearn/utils/validation.py:590: FutureWarning: np.matrix usage is deprecated in 1.0 and will raise a TypeError in 1.2. Please convert to a numpy array with np.asarray. For more information see: https://numpy.org/doc/stable/reference/generated/numpy.matrix.html\n",
            "  FutureWarning,\n",
            "/usr/local/lib/python3.7/dist-packages/sklearn/utils/validation.py:590: FutureWarning: np.matrix usage is deprecated in 1.0 and will raise a TypeError in 1.2. Please convert to a numpy array with np.asarray. For more information see: https://numpy.org/doc/stable/reference/generated/numpy.matrix.html\n",
            "  FutureWarning,\n"
          ]
        }
      ]
    },
    {
      "cell_type": "markdown",
      "metadata": {
        "id": "jkDGX51NyfnC"
      },
      "source": [
        "**Dolphin Social Network Statistics**"
      ]
    },
    {
      "cell_type": "code",
      "metadata": {
        "colab": {
          "base_uri": "https://localhost:8080/"
        },
        "id": "hricYx7EyR0e",
        "outputId": "910b69ff-81b2-44f6-812b-d68d8c98218c"
      },
      "source": [
        "#no of communities of Dolphins Club\n",
        "print(\"Dolphins Social Network\")\n",
        "print(\"Number of communities using Girvan Newman - \", len(first_division))\n",
        "print(\"Number of communities using Modularity Maximization - \", len(comp_MM))\n",
        "print(\"Number of communities using Spectral Clusternig - \", K)"
      ],
      "execution_count": null,
      "outputs": [
        {
          "output_type": "stream",
          "name": "stdout",
          "text": [
            "Dolphins Social Network\n",
            "Number of communities using Girvan Newman -  4\n",
            "Number of communities using Modularity Maximization -  4\n",
            "Number of communities using Spectral Clusternig -  4\n"
          ]
        }
      ]
    },
    {
      "cell_type": "code",
      "metadata": {
        "id": "rgqlqIdfPpe9"
      },
      "source": [
        ""
      ],
      "execution_count": null,
      "outputs": []
    },
    {
      "cell_type": "code",
      "metadata": {
        "colab": {
          "base_uri": "https://localhost:8080/"
        },
        "id": "KbVRY5_1YGGd",
        "outputId": "167ac859-859b-46f9-deb0-2deac6c6e37a"
      },
      "source": [
        "#Modularity Score for Dolphins Network\n",
        "print(\"Modularity score for Dolphins Social Network\")\n",
        "print(\"Modularity Score For Girvan Newman - \", nx.algorithms.community.quality.modularity(H,first_division))\n",
        "print(\"Modularity Score For Modularity Maximization - \", nx.algorithms.community.quality.modularity(H,comp_MM))\n",
        "print(\"Modularity Score For Spectral Clustering - \", nx.algorithms.community.quality.modularity(H,sorted(comp_SC_dolphins)))\n"
      ],
      "execution_count": null,
      "outputs": [
        {
          "output_type": "stream",
          "name": "stdout",
          "text": [
            "Modularity score for Dolphins Social Network\n",
            "Modularity Score For Girvan Newman -  0.45807127882599574\n",
            "Modularity Score For Modularity Maximization -  0.4954906847039278\n",
            "Modularity Score For Spectral Clustering -      0.4643215896245634\n"
          ]
        }
      ]
    },
    {
      "cell_type": "markdown",
      "metadata": {
        "id": "L_5KkX5lyE5p"
      },
      "source": [
        "# **Operating on Jazz Network Graph**"
      ]
    },
    {
      "cell_type": "code",
      "metadata": {
        "id": "UN4sHAUn0paO"
      },
      "source": [
        "# Program for Girvan-Newman\n",
        "def most_central_edge(G):\n",
        "    centrality = betweenness(G, weight=\"weight\") \n",
        "    return max(centrality, key=centrality.get) #For finding edge betweenness and returning max value \n",
        "\n",
        "comp_GN = nxcm.girvan_newman(I, most_valuable_edge=most_central_edge)\n",
        "communities = list(nx.community.girvan_newman(I))"
      ],
      "execution_count": null,
      "outputs": []
    },
    {
      "cell_type": "code",
      "metadata": {
        "id": "CkdBw4uAq9Cd"
      },
      "source": [
        "\n",
        "node_id = 0\n",
        "init_node2community_dict = {node_id: communities[0][0].union(communities[0][1])}\n",
        "for comm in communities:\n",
        "    for subset in list(comm):\n",
        "        if subset not in init_node2community_dict.values():\n",
        "            node_id += 1\n",
        "            init_node2community_dict[node_id] = subset\n",
        "\n",
        "node_id_to_children = {e: [] for e in init_node2community_dict.keys()}\n",
        "for node_id1, node_id2 in combinations(init_node2community_dict.keys(), 2):\n",
        "    for node_id_parent, group in init_node2community_dict.items():\n",
        "        if len(init_node2community_dict[node_id1].intersection(init_node2community_dict[node_id2])) == 0 and group == init_node2community_dict[node_id1].union(init_node2community_dict[node_id2]):\n",
        "            node_id_to_children[node_id_parent].append(node_id1)\n",
        "            node_id_to_children[node_id_parent].append(node_id2)\n",
        "\n",
        "node_labels = dict()\n",
        "for node_id, group in init_node2community_dict.items():\n",
        "    if len(group) == 1:\n",
        "        node_labels[node_id] = list(group)[0]\n",
        "    else:\n",
        "        node_labels[node_id] = ''\n",
        "\n",
        "subset_rank_dict = dict()\n",
        "rank = 0\n",
        "for e in communities[::-1]:\n",
        "    for p in list(e):\n",
        "        if tuple(p) not in subset_rank_dict:\n",
        "            subset_rank_dict[tuple(sorted(p))] = rank\n",
        "            rank += 1\n",
        "subset_rank_dict[tuple(sorted(chain.from_iterable(communities[-1])))] = rank\n",
        "\n",
        "def get_merge_height(sub):\n",
        "    sub_tuple = tuple(sorted([node_labels[i] for i in sub]))\n",
        "    n = len(sub_tuple)\n",
        "    other_same_len_merges = {k: v for k, v in subset_rank_dict.items() if len(k) == n}\n",
        "    min_rank, max_rank = min(other_same_len_merges.values()), max(other_same_len_merges.values())\n",
        "    range = (max_rank-min_rank) if max_rank > min_rank else 1\n",
        "    return float(len(sub)) + 0.8 * (subset_rank_dict[sub_tuple] - min_rank) / range\n"
      ],
      "execution_count": null,
      "outputs": []
    },
    {
      "cell_type": "code",
      "metadata": {
        "colab": {
          "base_uri": "https://localhost:8080/",
          "height": 315
        },
        "id": "TTXjdFRIrG7i",
        "outputId": "bfc041af-d3f2-4529-bfda-c0d24022e2f1"
      },
      "source": [
        "\n",
        "M           = nx.DiGraph(node_id_to_children)\n",
        "nodes       = M.nodes()\n",
        "leaves      = set( n for n in nodes if M.out_degree(n) == 0 )\n",
        "inner_nodes = [ n for n in nodes if M.out_degree(n) > 0 ]\n",
        "\n",
        "# Compute the size of each subtree\n",
        "subtree = dict( (n, [n]) for n in leaves )\n",
        "for u in inner_nodes:\n",
        "    children = set()\n",
        "    node_list = list(node_id_to_children[u])\n",
        "    while len(node_list) > 0:\n",
        "        v = node_list.pop(0)\n",
        "        children.add( v )\n",
        "        node_list += node_id_to_children[v]\n",
        "    subtree[u] = sorted(children & leaves)\n",
        "\n",
        "inner_nodes.sort(key=lambda n: len(subtree[n])) # <-- order inner nodes ascending by subtree size, root is last\n",
        "\n",
        "# Construct the linkage matrix\n",
        "leaves = sorted(leaves)\n",
        "index  = dict( (tuple([n]), i) for i, n in enumerate(leaves) )\n",
        "Z = []\n",
        "k = len(leaves)\n",
        "for i, n in enumerate(inner_nodes):\n",
        "    children = node_id_to_children[n]\n",
        "    x = children[0]\n",
        "    for y in children[1:]:\n",
        "        z = tuple(sorted(subtree[x] + subtree[y]))\n",
        "        i, j = index[tuple(sorted(subtree[x]))], index[tuple(sorted(subtree[y]))]\n",
        "        Z.append([i, j, get_merge_height(subtree[n]), len(z)]) # <-- float is required by the dendrogram function\n",
        "        index[z] = k\n",
        "        subtree[z] = list(z)\n",
        "        x = z\n",
        "        k += 1\n",
        "\n",
        "plt.figure()\n",
        "x=dendrogram(Z, labels=[node_labels[node_id] for node_id in leaves])\n",
        "print(x)\n",
        "plt.show()"
      ],
      "execution_count": null,
      "outputs": [
        {
          "output_type": "stream",
          "name": "stdout",
          "text": [
            "{'icoord': [[175.0, 175.0, 185.0, 185.0], [165.0, 165.0, 180.0, 180.0], [155.0, 155.0, 172.5, 172.5], [145.0, 145.0, 163.75, 163.75], [135.0, 135.0, 154.375, 154.375], [125.0, 125.0, 144.6875, 144.6875], [115.0, 115.0, 134.84375, 134.84375], [105.0, 105.0, 124.921875, 124.921875], [95.0, 95.0, 114.9609375, 114.9609375], [85.0, 85.0, 104.98046875, 104.98046875], [75.0, 75.0, 94.990234375, 94.990234375], [65.0, 65.0, 84.9951171875, 84.9951171875], [55.0, 55.0, 74.99755859375, 74.99755859375], [45.0, 45.0, 64.998779296875, 64.998779296875], [35.0, 35.0, 54.9993896484375, 54.9993896484375], [44.99969482421875, 44.99969482421875, 195.0, 195.0], [119.99984741210938, 119.99984741210938, 205.0, 205.0], [162.4999237060547, 162.4999237060547, 215.0, 215.0], [188.74996185302734, 188.74996185302734, 225.0, 225.0], [206.87498092651367, 206.87498092651367, 235.0, 235.0], [220.93749046325684, 220.93749046325684, 245.0, 245.0], [232.96874523162842, 232.96874523162842, 255.0, 255.0], [243.9843726158142, 243.9843726158142, 265.0, 265.0], [254.4921863079071, 254.4921863079071, 275.0, 275.0], [264.74609315395355, 264.74609315395355, 285.0, 285.0], [25.0, 25.0, 274.8730465769768, 274.8730465769768], [149.9365232884884, 149.9365232884884, 295.0, 295.0], [222.4682616442442, 222.4682616442442, 305.0, 305.0], [263.7341308221221, 263.7341308221221, 315.0, 315.0], [289.36706541106105, 289.36706541106105, 325.0, 325.0], [307.1835327055305, 307.1835327055305, 335.0, 335.0], [321.09176635276526, 321.09176635276526, 345.0, 345.0], [15.0, 15.0, 333.04588317638263, 333.04588317638263], [174.02294158819132, 174.02294158819132, 355.0, 355.0], [264.51147079409566, 264.51147079409566, 365.0, 365.0], [314.75573539704783, 314.75573539704783, 375.0, 375.0], [344.8778676985239, 344.8778676985239, 385.0, 385.0], [364.93893384926196, 364.93893384926196, 395.0, 395.0], [379.969466924631, 379.969466924631, 405.0, 405.0], [392.4847334623155, 392.4847334623155, 415.0, 415.0], [403.74236673115774, 403.74236673115774, 425.0, 425.0], [414.3711833655789, 414.3711833655789, 435.0, 435.0], [424.68559168278944, 424.68559168278944, 445.0, 445.0], [434.8427958413947, 434.8427958413947, 455.0, 455.0], [765.0, 765.0, 775.0, 775.0], [755.0, 755.0, 770.0, 770.0], [745.0, 745.0, 762.5, 762.5], [735.0, 735.0, 753.75, 753.75], [725.0, 725.0, 744.375, 744.375], [715.0, 715.0, 734.6875, 734.6875], [705.0, 705.0, 724.84375, 724.84375], [695.0, 695.0, 714.921875, 714.921875], [685.0, 685.0, 704.9609375, 704.9609375], [675.0, 675.0, 694.98046875, 694.98046875], [665.0, 665.0, 684.990234375, 684.990234375], [655.0, 655.0, 674.9951171875, 674.9951171875], [645.0, 645.0, 664.99755859375, 664.99755859375], [635.0, 635.0, 654.998779296875, 654.998779296875], [625.0, 625.0, 644.9993896484375, 644.9993896484375], [615.0, 615.0, 634.9996948242188, 634.9996948242188], [605.0, 605.0, 624.9998474121094, 624.9998474121094], [595.0, 595.0, 614.9999237060547, 614.9999237060547], [585.0, 585.0, 604.9999618530273, 604.9999618530273], [575.0, 575.0, 594.9999809265137, 594.9999809265137], [565.0, 565.0, 584.9999904632568, 584.9999904632568], [555.0, 555.0, 574.9999952316284, 574.9999952316284], [545.0, 545.0, 564.9999976158142, 564.9999976158142], [535.0, 535.0, 554.9999988079071, 554.9999988079071], [525.0, 525.0, 544.9999994039536, 544.9999994039536], [515.0, 515.0, 534.9999997019768, 534.9999997019768], [505.0, 505.0, 524.9999998509884, 524.9999998509884], [495.0, 495.0, 514.9999999254942, 514.9999999254942], [485.0, 485.0, 504.9999999627471, 504.9999999627471], [494.99999998137355, 494.99999998137355, 785.0, 785.0], [639.9999999906868, 639.9999999906868, 795.0, 795.0], [717.4999999953434, 717.4999999953434, 805.0, 805.0], [475.0, 475.0, 761.2499999976717, 761.2499999976717], [465.0, 465.0, 618.1249999988358, 618.1249999988358], [541.5624999994179, 541.5624999994179, 815.0, 815.0], [678.281249999709, 678.281249999709, 825.0, 825.0], [751.6406249998545, 751.6406249998545, 835.0, 835.0], [793.3203124999272, 793.3203124999272, 845.0, 845.0], [819.1601562499636, 819.1601562499636, 855.0, 855.0], [837.0800781249818, 837.0800781249818, 865.0, 865.0], [851.0400390624909, 851.0400390624909, 875.0, 875.0], [863.0200195312455, 863.0200195312455, 885.0, 885.0], [874.0100097656227, 874.0100097656227, 895.0, 895.0], [884.5050048828114, 884.5050048828114, 905.0, 905.0], [894.7525024414057, 894.7525024414057, 915.0, 915.0], [904.8762512207029, 904.8762512207029, 925.0, 925.0], [914.9381256103514, 914.9381256103514, 935.0, 935.0], [924.9690628051758, 924.9690628051758, 945.0, 945.0], [1105.0, 1105.0, 1115.0, 1115.0], [1095.0, 1095.0, 1110.0, 1110.0], [1085.0, 1085.0, 1102.5, 1102.5], [1075.0, 1075.0, 1093.75, 1093.75], [1065.0, 1065.0, 1084.375, 1084.375], [1055.0, 1055.0, 1074.6875, 1074.6875], [1045.0, 1045.0, 1064.84375, 1064.84375], [1035.0, 1035.0, 1054.921875, 1054.921875], [1025.0, 1025.0, 1044.9609375, 1044.9609375], [1015.0, 1015.0, 1034.98046875, 1034.98046875], [1005.0, 1005.0, 1024.990234375, 1024.990234375], [995.0, 995.0, 1014.9951171875, 1014.9951171875], [1004.99755859375, 1004.99755859375, 1125.0, 1125.0], [985.0, 985.0, 1064.998779296875, 1064.998779296875], [1024.9993896484375, 1024.9993896484375, 1135.0, 1135.0], [1079.9996948242188, 1079.9996948242188, 1145.0, 1145.0], [1112.4998474121094, 1112.4998474121094, 1155.0, 1155.0], [1133.7499237060547, 1133.7499237060547, 1165.0, 1165.0], [1149.3749618530273, 1149.3749618530273, 1175.0, 1175.0], [1162.1874809265137, 1162.1874809265137, 1185.0, 1185.0], [1173.5937404632568, 1173.5937404632568, 1195.0, 1195.0], [1184.2968702316284, 1184.2968702316284, 1205.0, 1205.0], [1194.6484351158142, 1194.6484351158142, 1215.0, 1215.0], [1204.824217557907, 1204.824217557907, 1225.0, 1225.0], [1214.9121087789536, 1214.9121087789536, 1235.0, 1235.0], [1224.9560543894768, 1224.9560543894768, 1245.0, 1245.0], [1234.9780271947384, 1234.9780271947384, 1255.0, 1255.0], [1244.9890135973692, 1244.9890135973692, 1265.0, 1265.0], [1254.9945067986846, 1254.9945067986846, 1275.0, 1275.0], [975.0, 975.0, 1264.9972533993423, 1264.9972533993423], [1119.9986266996711, 1119.9986266996711, 1285.0, 1285.0], [1202.4993133498356, 1202.4993133498356, 1295.0, 1295.0], [1248.7496566749178, 1248.7496566749178, 1305.0, 1305.0], [1276.874828337459, 1276.874828337459, 1315.0, 1315.0], [1295.9374141687294, 1295.9374141687294, 1325.0, 1325.0], [1310.4687070843647, 1310.4687070843647, 1335.0, 1335.0], [1322.7343535421824, 1322.7343535421824, 1345.0, 1345.0], [1333.8671767710912, 1333.8671767710912, 1355.0, 1355.0], [1344.4335883855456, 1344.4335883855456, 1365.0, 1365.0], [1354.7167941927728, 1354.7167941927728, 1375.0, 1375.0], [1364.8583970963864, 1364.8583970963864, 1385.0, 1385.0], [1374.9291985481932, 1374.9291985481932, 1395.0, 1395.0], [1384.9645992740966, 1384.9645992740966, 1405.0, 1405.0], [1394.9822996370483, 1394.9822996370483, 1415.0, 1415.0], [1404.9911498185243, 1404.9911498185243, 1425.0, 1425.0], [1414.9955749092621, 1414.9955749092621, 1435.0, 1435.0], [1424.9977874546312, 1424.9977874546312, 1445.0, 1445.0], [1434.9988937273156, 1434.9988937273156, 1455.0, 1455.0], [1444.9994468636578, 1444.9994468636578, 1465.0, 1465.0], [1454.999723431829, 1454.999723431829, 1475.0, 1475.0], [1464.9998617159144, 1464.9998617159144, 1485.0, 1485.0], [1474.9999308579572, 1474.9999308579572, 1495.0, 1495.0], [1484.9999654289786, 1484.9999654289786, 1505.0, 1505.0], [965.0, 965.0, 1494.9999827144893, 1494.9999827144893], [1229.9999913572447, 1229.9999913572447, 1515.0, 1515.0], [1372.4999956786223, 1372.4999956786223, 1525.0, 1525.0], [955.0, 955.0, 1448.7499978393112, 1448.7499978393112], [1201.8749989196556, 1201.8749989196556, 1535.0, 1535.0], [934.9845314025879, 934.9845314025879, 1368.437499459828, 1368.437499459828], [1151.711015431208, 1151.711015431208, 1545.0, 1545.0], [1348.3555077156038, 1348.3555077156038, 1555.0, 1555.0], [1451.677753857802, 1451.677753857802, 1565.0, 1565.0], [1508.3388769289008, 1508.3388769289008, 1575.0, 1575.0], [1541.6694384644504, 1541.6694384644504, 1585.0, 1585.0], [1563.3347192322253, 1563.3347192322253, 1595.0, 1595.0], [1579.1673596161127, 1579.1673596161127, 1605.0, 1605.0], [1592.0836798080563, 1592.0836798080563, 1615.0, 1615.0], [1603.5418399040282, 1603.5418399040282, 1625.0, 1625.0], [1614.270919952014, 1614.270919952014, 1635.0, 1635.0], [1624.635459976007, 1624.635459976007, 1645.0, 1645.0], [1634.8177299880035, 1634.8177299880035, 1655.0, 1655.0], [1644.9088649940018, 1644.9088649940018, 1665.0, 1665.0], [1654.9544324970009, 1654.9544324970009, 1675.0, 1675.0], [1664.9772162485006, 1664.9772162485006, 1685.0, 1685.0], [1674.9886081242503, 1674.9886081242503, 1695.0, 1695.0], [1684.9943040621251, 1684.9943040621251, 1705.0, 1705.0], [1694.9971520310626, 1694.9971520310626, 1715.0, 1715.0], [1704.9985760155314, 1704.9985760155314, 1725.0, 1725.0], [1714.9992880077657, 1714.9992880077657, 1735.0, 1735.0], [1724.9996440038828, 1724.9996440038828, 1745.0, 1745.0], [1734.9998220019415, 1734.9998220019415, 1755.0, 1755.0], [1744.9999110009708, 1744.9999110009708, 1765.0, 1765.0], [1754.9999555004854, 1754.9999555004854, 1775.0, 1775.0], [1764.9999777502426, 1764.9999777502426, 1785.0, 1785.0], [1795.0, 1795.0, 1805.0, 1805.0], [1774.9999888751213, 1774.9999888751213, 1800.0, 1800.0], [444.92139792069736, 444.92139792069736, 1787.4999944375606, 1787.4999944375606], [1116.210696179129, 1116.210696179129, 1815.0, 1815.0], [1835.0, 1835.0, 1845.0, 1845.0], [1825.0, 1825.0, 1840.0, 1840.0], [1465.6053480895644, 1465.6053480895644, 1832.5, 1832.5], [1865.0, 1865.0, 1875.0, 1875.0], [1855.0, 1855.0, 1870.0, 1870.0], [1862.5, 1862.5, 1885.0, 1885.0], [1649.0526740447822, 1649.0526740447822, 1873.75, 1873.75], [1761.401337022391, 1761.401337022391, 1895.0, 1895.0], [1828.2006685111955, 1828.2006685111955, 1905.0, 1905.0], [1866.6003342555978, 1866.6003342555978, 1915.0, 1915.0], [1890.8001671277989, 1890.8001671277989, 1925.0, 1925.0], [1907.9000835638994, 1907.9000835638994, 1935.0, 1935.0], [1921.4500417819497, 1921.4500417819497, 1945.0, 1945.0], [5.0, 5.0, 1933.225020890975, 1933.225020890975], [1975.0, 1975.0, 1985.0, 1985.0], [1965.0, 1965.0, 1980.0, 1980.0], [1955.0, 1955.0, 1972.5, 1972.5], [969.1125104454875, 969.1125104454875, 1963.75, 1963.75]], 'dcoord': [[0.0, 2.8, 2.8, 0.0], [0.0, 3.0892667375132836, 3.0892667375132836, 2.8], [0.0, 4.090093847758081, 4.090093847758081, 3.0892667375132836], [0.0, 5.8, 5.8, 4.090093847758081], [0.0, 6.8, 6.8, 5.8], [0.0, 7.8, 7.8, 6.8], [0.0, 8.8, 8.8, 7.8], [0.0, 9.8, 9.8, 8.8], [0.0, 10.8, 10.8, 9.8], [0.0, 11.8, 11.8, 10.8], [0.0, 12.690196078431372, 12.690196078431372, 11.8], [0.0, 13.511848341232227, 13.511848341232227, 12.690196078431372], [0.0, 14.495774647887323, 14.495774647887323, 13.511848341232227], [0.0, 15.5, 15.5, 14.495774647887323], [0.0, 16.748623853211008, 16.748623853211008, 15.5], [16.748623853211008, 17.721632653061224, 17.721632653061224, 0.0], [17.721632653061224, 18.68235294117647, 18.68235294117647, 0.0], [18.68235294117647, 19.52173913043478, 19.52173913043478, 0.0], [19.52173913043478, 20.500680272108845, 20.500680272108845, 0.0], [20.500680272108845, 21.497297297297298, 21.497297297297298, 0.0], [21.497297297297298, 22.553020134228188, 22.553020134228188, 0.0], [22.553020134228188, 23.586666666666666, 23.586666666666666, 0.0], [23.586666666666666, 24.54478527607362, 24.54478527607362, 0.0], [24.54478527607362, 25.57560975609756, 25.57560975609756, 0.0], [25.57560975609756, 26.693333333333335, 26.693333333333335, 0.0], [0.0, 27.781395348837208, 27.781395348837208, 26.693333333333335], [27.781395348837208, 28.73502538071066, 28.73502538071066, 0.0], [28.73502538071066, 29.735353535353536, 29.735353535353536, 0.0], [29.735353535353536, 30.759493670886076, 30.759493670886076, 0.0], [30.759493670886076, 31.55890410958904, 31.55890410958904, 0.0], [31.55890410958904, 32.8, 32.8, 0.0], [32.8, 33.8, 33.8, 0.0], [0.0, 34.8, 34.8, 33.8], [34.8, 35.8, 35.8, 0.0], [35.8, 36.8, 36.8, 0.0], [36.8, 37.705882352941174, 37.705882352941174, 0.0], [37.705882352941174, 38.8, 38.8, 0.0], [38.8, 39.8, 39.8, 0.0], [39.8, 40.8, 40.8, 0.0], [40.8, 41.8, 41.8, 0.0], [41.8, 42.8, 42.8, 0.0], [42.8, 43.8, 43.8, 0.0], [43.8, 44.8, 44.8, 0.0], [44.8, 45.8, 45.8, 0.0], [0.0, 2.0228571428571427, 2.0228571428571427, 0.0], [0.0, 3.0, 3.0, 2.0228571428571427], [0.0, 4.0, 4.0, 3.0], [0.0, 5.0, 5.0, 4.0], [0.0, 6.0, 6.0, 5.0], [0.0, 7.0, 7.0, 6.0], [0.0, 8.0, 8.0, 7.0], [0.0, 9.0, 9.0, 8.0], [0.0, 10.0, 10.0, 9.0], [0.0, 11.0, 11.0, 10.0], [0.0, 12.0, 12.0, 11.0], [0.0, 13.0, 13.0, 12.0], [0.0, 14.0, 14.0, 13.0], [0.0, 15.0, 15.0, 14.0], [0.0, 16.0, 16.0, 15.0], [0.0, 17.0, 17.0, 16.0], [0.0, 18.0, 18.0, 17.0], [0.0, 19.0, 19.0, 18.0], [0.0, 20.0, 20.0, 19.0], [0.0, 21.0, 21.0, 20.0], [0.0, 22.0, 22.0, 21.0], [0.0, 23.0, 23.0, 22.0], [0.0, 24.0, 24.0, 23.0], [0.0, 25.0, 25.0, 24.0], [0.0, 26.0, 26.0, 25.0], [0.0, 27.0, 27.0, 26.0], [0.0, 28.0, 28.0, 27.0], [0.0, 29.0, 29.0, 28.0], [0.0, 30.0, 30.0, 29.0], [30.0, 31.0, 31.0, 0.0], [31.0, 32.0, 32.0, 0.0], [32.0, 33.0, 33.0, 0.0], [0.0, 34.0, 34.0, 33.0], [0.0, 35.0, 35.0, 34.0], [35.0, 36.0, 36.0, 0.0], [36.0, 37.0, 37.0, 0.0], [37.0, 38.0, 38.0, 0.0], [38.0, 39.0, 39.0, 0.0], [39.0, 40.0, 40.0, 0.0], [40.0, 41.53846153846154, 41.53846153846154, 0.0], [41.53846153846154, 42.175, 42.175, 0.0], [42.175, 43.175, 43.175, 0.0], [43.175, 44.235, 44.235, 0.0], [44.235, 45.12965517241379, 45.12965517241379, 0.0], [45.12965517241379, 46.8, 46.8, 0.0], [46.8, 47.8, 47.8, 0.0], [47.8, 48.8, 48.8, 0.0], [48.8, 49.8, 49.8, 0.0], [0.0, 2.3580952380952382, 2.3580952380952382, 0.0], [0.0, 3.039107332624867, 3.039107332624867, 2.3580952380952382], [0.0, 4.040041710114703, 4.040041710114703, 3.039107332624867], [0.0, 5.36036036036036, 5.36036036036036, 4.040041710114703], [0.0, 6.4, 6.4, 5.36036036036036], [0.0, 7.396581196581197, 7.396581196581197, 6.4], [0.0, 8.4, 8.4, 7.396581196581197], [0.0, 9.403252032520324, 9.403252032520324, 8.4], [0.0, 10.406349206349207, 10.406349206349207, 9.403252032520324], [0.0, 11.471317829457364, 11.471317829457364, 10.406349206349207], [0.0, 12.8, 12.8, 11.471317829457364], [0.0, 13.8, 13.8, 12.8], [13.8, 14.8, 14.8, 0.0], [0.0, 15.8, 15.8, 14.8], [15.8, 16.8, 16.8, 0.0], [16.8, 17.8, 17.8, 0.0], [17.8, 18.8, 18.8, 0.0], [18.8, 19.8, 19.8, 0.0], [19.8, 20.8, 20.8, 0.0], [20.8, 21.8, 21.8, 0.0], [21.8, 22.8, 22.8, 0.0], [22.8, 23.8, 23.8, 0.0], [23.8, 24.8, 24.8, 0.0], [24.8, 25.8, 25.8, 0.0], [25.8, 26.8, 26.8, 0.0], [26.8, 27.8, 27.8, 0.0], [27.8, 28.8, 28.8, 0.0], [28.8, 29.8, 29.8, 0.0], [29.8, 30.8, 30.8, 0.0], [0.0, 31.8, 31.8, 30.8], [31.8, 32.650666666666666, 32.650666666666666, 0.0], [32.650666666666666, 33.39540229885058, 33.39540229885058, 0.0], [33.39540229885058, 34.40833333333333, 34.40833333333333, 0.0], [34.40833333333333, 35.458333333333336, 35.458333333333336, 0.0], [35.458333333333336, 36.53333333333333, 36.53333333333333, 0.0], [36.53333333333333, 37.8, 37.8, 0.0], [37.8, 38.635897435897434, 38.635897435897434, 0.0], [38.635897435897434, 39.635897435897434, 39.635897435897434, 0.0], [39.635897435897434, 40.44044943820225, 40.44044943820225, 0.0], [40.44044943820225, 41.0, 41.0, 0.0], [41.0, 42.0, 42.0, 0.0], [42.0, 43.0, 43.0, 0.0], [43.0, 44.0, 44.0, 0.0], [44.0, 45.0, 45.0, 0.0], [45.0, 46.0, 46.0, 0.0], [46.0, 47.0, 47.0, 0.0], [47.0, 48.0, 48.0, 0.0], [48.0, 49.0, 49.0, 0.0], [49.0, 50.0, 50.0, 0.0], [50.0, 51.0, 51.0, 0.0], [51.0, 52.0, 52.0, 0.0], [52.0, 53.0, 53.0, 0.0], [53.0, 54.0, 54.0, 0.0], [0.0, 55.0, 55.0, 54.0], [55.0, 56.0, 56.0, 0.0], [56.0, 57.0, 57.0, 0.0], [0.0, 58.0, 58.0, 57.0], [58.0, 59.0, 59.0, 0.0], [49.8, 108.0, 108.0, 59.0], [108.0, 109.0, 109.0, 0.0], [109.0, 110.0, 110.0, 0.0], [110.0, 111.0, 111.0, 0.0], [111.0, 112.0, 112.0, 0.0], [112.0, 113.0, 113.0, 0.0], [113.0, 114.0, 114.0, 0.0], [114.0, 115.0, 115.0, 0.0], [115.0, 116.0, 116.0, 0.0], [116.0, 117.0, 117.0, 0.0], [117.0, 118.0, 118.0, 0.0], [118.0, 119.0, 119.0, 0.0], [119.0, 120.0, 120.0, 0.0], [120.0, 121.0, 121.0, 0.0], [121.0, 122.0, 122.0, 0.0], [122.0, 123.0, 123.0, 0.0], [123.0, 124.0, 124.0, 0.0], [124.0, 125.0, 125.0, 0.0], [125.0, 126.0, 126.0, 0.0], [126.0, 127.0, 127.0, 0.0], [127.0, 128.0, 128.0, 0.0], [128.0, 129.0, 129.0, 0.0], [129.0, 130.0, 130.0, 0.0], [130.0, 131.0, 131.0, 0.0], [131.0, 132.0, 132.0, 0.0], [132.0, 133.0, 133.0, 0.0], [0.0, 2.0, 2.0, 0.0], [133.0, 135.0, 135.0, 2.0], [45.8, 180.0, 180.0, 135.0], [180.0, 181.0, 181.0, 0.0], [0.0, 2.220952380952381, 2.220952380952381, 0.0], [0.0, 3.8, 3.8, 2.220952380952381], [181.0, 184.0, 184.0, 3.8], [0.0, 2.0076190476190474, 2.0076190476190474, 0.0], [0.0, 3.4089266737513286, 3.4089266737513286, 2.0076190476190474], [3.4089266737513286, 4.786652763295099, 4.786652763295099, 0.0], [184.0, 188.0, 188.0, 4.786652763295099], [188.0, 189.0, 189.0, 0.0], [189.0, 190.0, 190.0, 0.0], [190.0, 191.0, 191.0, 0.0], [191.0, 192.0, 192.0, 0.0], [192.0, 193.0, 193.0, 0.0], [193.0, 194.0, 194.0, 0.0], [0.0, 195.0, 195.0, 194.0], [0.0, 2.6933333333333334, 2.6933333333333334, 0.0], [0.0, 3.0773645058448458, 3.0773645058448458, 2.6933333333333334], [0.0, 4.8, 4.8, 3.0773645058448458], [195.0, 199.0, 199.0, 4.8]], 'ivl': ['*Vertices', '198', '153', '167', '172', '5', '26', '77', '147', '28', '29', '73', '86', '90', '96', '128', '140', '149', '191', '173', '189', '156', '13', '176', '169', '184', '85', '102', '138', '155', '88', '18', '97', '124', '4', '51', '126', '75', '27', '79', '144', '76', '163', '45', '41', '3', '1', '8', '35', '60', '98', '99', '100', '101', '108', '131', '132', '154', '168', '122', '110', '32', '135', '179', '105', '107', '62', '106', '123', '33', '40', '44', '58', '63', '64', '65', '66', '109', '171', '187', '95', '46', '24', '50', '166', '68', '81', '182', '43', '78', '22', '104', '91', '139', '38', '74', '103', '14', '54', '150', '194', '7', '36', '67', '70', '83', '158', '164', '170', '178', '192', '195', '49', '196', '53', '136', '57', '87', '127', '130', '69', '161', '114', '112', '61', '10', '56', '174', '141', '142', '71', '151', '55', '111', '183', '118', '121', '125', '93', '193', '146', '190', '94', '197', '177', '129', '175', '12', '31', '19', '89', '84', '186', '143', '59', '117', '137', '20', '113', '11', '162', '185', '42', '116', '9', '80', '72', '188', '23', '134', '159', '119', '82', '16', '48', '15', '52', '2', '34', '39', '181', '145', '25', '92', '148', '37', '133', '180', '47', '17', '120', '30', '165', '160', '21', '115', '6', '152', '157'], 'leaves': [0, 76, 106, 141, 142, 143, 144, 145, 146, 147, 148, 149, 150, 151, 152, 153, 154, 155, 156, 127, 123, 122, 121, 120, 119, 116, 114, 113, 111, 101, 98, 97, 93, 91, 84, 73, 72, 71, 70, 65, 64, 59, 54, 35, 34, 33, 89, 90, 129, 130, 131, 132, 133, 134, 135, 136, 137, 138, 139, 166, 173, 174, 175, 176, 180, 181, 182, 183, 184, 185, 186, 187, 188, 189, 190, 191, 192, 193, 105, 99, 96, 88, 82, 80, 78, 77, 74, 57, 56, 55, 52, 50, 44, 41, 39, 37, 42, 92, 126, 140, 157, 161, 162, 163, 164, 165, 167, 168, 169, 170, 171, 172, 128, 125, 124, 118, 115, 112, 110, 109, 108, 107, 104, 103, 102, 100, 95, 94, 87, 86, 83, 81, 79, 75, 69, 68, 67, 66, 63, 62, 61, 60, 58, 53, 51, 49, 48, 47, 46, 45, 43, 40, 38, 36, 32, 31, 30, 29, 28, 27, 26, 25, 24, 23, 22, 21, 20, 19, 18, 17, 16, 15, 14, 13, 12, 11, 10, 9, 8, 197, 198, 7, 177, 178, 179, 194, 195, 196, 85, 6, 5, 4, 3, 2, 1, 117, 158, 159, 160], 'color_list': ['g', 'g', 'g', 'g', 'g', 'g', 'g', 'g', 'g', 'g', 'g', 'g', 'g', 'g', 'g', 'g', 'g', 'g', 'g', 'g', 'g', 'g', 'g', 'g', 'g', 'g', 'g', 'g', 'g', 'g', 'g', 'g', 'g', 'g', 'g', 'g', 'g', 'g', 'g', 'g', 'g', 'g', 'g', 'g', 'r', 'r', 'r', 'r', 'r', 'r', 'r', 'r', 'r', 'r', 'r', 'r', 'r', 'r', 'r', 'r', 'r', 'r', 'r', 'r', 'r', 'r', 'r', 'r', 'r', 'r', 'r', 'r', 'r', 'r', 'r', 'r', 'r', 'r', 'r', 'r', 'r', 'r', 'r', 'r', 'r', 'r', 'r', 'r', 'r', 'r', 'r', 'r', 'r', 'r', 'r', 'r', 'r', 'r', 'r', 'r', 'r', 'r', 'r', 'r', 'r', 'r', 'r', 'r', 'r', 'r', 'r', 'r', 'r', 'r', 'r', 'r', 'r', 'r', 'r', 'r', 'r', 'r', 'r', 'r', 'r', 'r', 'r', 'r', 'r', 'r', 'r', 'r', 'r', 'r', 'r', 'r', 'r', 'r', 'r', 'r', 'r', 'r', 'r', 'r', 'r', 'r', 'r', 'r', 'r', 'r', 'r', 'r', 'r', 'r', 'r', 'r', 'r', 'r', 'r', 'r', 'r', 'r', 'r', 'r', 'r', 'r', 'r', 'r', 'r', 'r', 'r', 'r', 'r', 'r', 'r', 'r', 'r', 'r', 'b', 'b', 'c', 'c', 'b', 'm', 'm', 'm', 'b', 'b', 'b', 'b', 'b', 'b', 'b', 'b', 'y', 'y', 'y', 'b']}\n"
          ]
        },
        {
          "output_type": "display_data",
          "data": {
            "image/png": "[encoded data removed]",
            "text/plain": [
              "<Figure size 432x288 with 1 Axes>"
            ]
          },
          "metadata": {
            "needs_background": "light"
          }
        }
      ]
    },
    {
      "cell_type": "code",
      "metadata": {
        "id": "BRmLHrT7rUZ0",
        "colab": {
          "base_uri": "https://localhost:8080/",
          "height": 282
        },
        "outputId": "5a55596b-177c-40bf-9bdd-161acf964f7d"
      },
      "source": [
        "#Inverse Skree Test for Jazz Network\n",
        "cluster_number = []\n",
        "agg_level = []\n",
        "\n",
        "\n",
        "for i in range(len(x['dcoord'])):\n",
        "    cluster_number.append(i)\n",
        "    agg_level.append(max(x['dcoord'][i]))\n",
        "    \n",
        "agg_level = sorted(agg_level)\n",
        "cluster_number = sorted(cluster_number,reverse=True)\n",
        "\n",
        "plt.plot(cluster_number,agg_level,label='agglomerative level')\n",
        "plt.legend()"
      ],
      "execution_count": null,
      "outputs": [
        {
          "output_type": "execute_result",
          "data": {
            "text/plain": [
              "<matplotlib.legend.Legend at 0x7f9efd5e9e50>"
            ]
          },
          "metadata": {},
          "execution_count": 26
        },
        {
          "output_type": "display_data",
          "data": {
            "image/png": "[encoded data removed]",
            "text/plain": [
              "<Figure size 432x288 with 1 Axes>"
            ]
          },
          "metadata": {
            "needs_background": "light"
          }
        }
      ]
    },
    {
      "cell_type": "code",
      "metadata": {
        "colab": {
          "base_uri": "https://localhost:8080/"
        },
        "id": "ntr0jkvLqldv",
        "outputId": "17daa395-3f74-48d1-b06b-0245038b0c94"
      },
      "source": [
        "#Girvan-Newman for jazz musicians network\n",
        "def most_central_edge(G):\n",
        "    centrality = betweenness(G, weight=\"weight\")\n",
        "    return max(centrality, key=centrality.get)\n",
        "a = np.zeros(4)\n",
        "for i in range(1,5):\n",
        "    start_time = datetime.now()\n",
        "    comp_GN = nxcm.girvan_newman(I, most_valuable_edge=most_central_edge)\n",
        "    communities = list(nx.community.girvan_newman(I))\n",
        "    end_time=datetime.now()\n",
        "    ##print(end_time-start_time)\n",
        "    runtime_algorithm_greivan_karate=(end_time-start_time).total_seconds() *1000\n",
        "    a[i-1]=runtime_algorithm_greivan_karate\n",
        "    print(a[i-1])\n",
        "\n",
        "mode = stats.mode(a)\n",
        "print(\"time taken\")\n",
        "print(format(float(mode[0]), 'f'))\n",
        "first_division=communities[3]\n",
        "print(sorted(first_division))"
      ],
      "execution_count": null,
      "outputs": [
        {
          "output_type": "stream",
          "name": "stdout",
          "text": [
            "273921.326\n",
            "269532.30000000005\n",
            "268729.234\n",
            "271624.28599999996\n",
            "time taken\n",
            "268729.234000\n",
            "[{'*Vertices'}, {'68', '196', '72', '34', '159', '96', '77', '144', '74', '32', '84', '51', '49', '173', '142', '148', '62', '56', '53', '106', '95', '125', '73', '75', '7', '186', '167', '156', '60', '154', '118', '180', '17', '44', '181', '193', '13', '107', '164', '22', '197', '61', '45', '178', '47', '52', '177', '119', '93', '182', '89', '33', '25', '24', '42', '139', '179', '90', '195', '36', '54', '127', '185', '100', '78', '140', '27', '9', '66', '48', '102', '86', '162', '122', '120', '194', '58', '158', '163', '30', '187', '124', '4', '183', '128', '31', '3', '136', '71', '104', '50', '8', '20', '1', '192', '166', '145', '79', '184', '169', '109', '65', '57', '99', '170', '16', '40', '2', '59', '132', '11', '108', '135', '121', '43', '80', '18', '149', '138', '126', '29', '35', '55', '189', '190', '97', '63', '114', '82', '101', '26', '88', '168', '98', '137', '5', '143', '112', '147', '117', '83', '91', '146', '176', '28', '172', '198', '155', '161', '46', '175', '12', '171', '165', '174', '23', '37', '150', '69', '131', '130', '94', '64', '188', '87', '38', '153', '85', '92', '123', '111', '151', '15', '105', '14', '67', '41', '81', '191', '70', '19', '129', '134', '113', '76', '10', '110', '141', '103', '116', '133', '39'}, {'152', '115', '157', '6'}, {'21'}, {'160'}]\n"
          ]
        }
      ]
    },
    {
      "cell_type": "code",
      "metadata": {
        "colab": {
          "base_uri": "https://localhost:8080/"
        },
        "id": "8Fz090xZhgtY",
        "outputId": "5efe14b0-df8d-41e5-ce02-917677332355"
      },
      "source": [
        "#Modularity Maximization for Jazz network\n",
        "a=np.zeros(5)\n",
        "for i in range(1,6):\n",
        "  start_time=datetime.now()\n",
        "  comp_MM = list(nxcm.modularity_max.greedy_modularity_communities(I))\n",
        "  end_time=datetime.now()\n",
        "  runtime_algorithm_modularity_maximization=(end_time-start_time).total_seconds() *1000\n",
        "  a[i-1]= runtime_algorithm_modularity_maximization\n",
        "mode = stats.mode(a)\n",
        "print(\"time taken\")\n",
        "print(format(float(mode[0]), 'f'))\n",
        "for i in range (0,len(comp_MM)):\n",
        "  print(sorted(comp_MM[i]))"
      ],
      "execution_count": null,
      "outputs": [
        {
          "output_type": "stream",
          "name": "stdout",
          "text": [
            "time taken\n",
            "245.578000\n",
            "['1', '100', '101', '103', '104', '105', '106', '107', '108', '109', '110', '116', '119', '120', '122', '123', '131', '132', '134', '135', '139', '15', '154', '159', '16', '162', '166', '168', '17', '170', '171', '179', '182', '187', '188', '22', '23', '24', '32', '33', '35', '38', '40', '42', '43', '44', '46', '48', '50', '58', '60', '62', '63', '64', '65', '66', '68', '74', '78', '8', '80', '81', '9', '91', '95', '98', '99']\n",
            "['10', '11', '111', '112', '113', '114', '117', '118', '12', '121', '125', '127', '129', '130', '137', '14', '141', '142', '146', '150', '151', '158', '161', '164', '165', '174', '175', '177', '178', '183', '185', '186', '19', '190', '192', '193', '194', '195', '196', '197', '2', '20', '30', '31', '34', '36', '49', '52', '53', '54', '55', '56', '57', '61', '67', '69', '7', '70', '71', '72', '83', '84', '87', '89', '93', '94']\n",
            "['*Vertices', '102', '115', '124', '126', '128', '13', '133', '136', '138', '140', '144', '145', '147', '148', '149', '152', '153', '155', '156', '157', '160', '163', '167', '169', '172', '173', '176', '18', '180', '181', '184', '189', '191', '198', '21', '25', '26', '27', '28', '29', '3', '37', '39', '4', '41', '45', '47', '5', '51', '6', '73', '75', '76', '77', '79', '85', '86', '88', '90', '92', '96', '97']\n",
            "['143', '59', '82']\n"
          ]
        }
      ]
    },
    {
      "cell_type": "code",
      "metadata": {
        "colab": {
          "base_uri": "https://localhost:8080/"
        },
        "id": "xoENYrSdhYE4",
        "outputId": "2c7efdcb-e5b8-4266-e21b-9625758e50eb"
      },
      "source": [
        "#Spectral Clustering for Jazz network\n",
        "K=len(first_division)\n",
        "a=np.zeros(9)\n",
        "for i in range(1,10):\n",
        "  start_time = datetime.now()\n",
        "  L = nx.laplacian_matrix(I)\n",
        "  e, v = np.linalg.eig(L.todense()) \n",
        "  idx = np.argsort(e)\n",
        "  e = e[idx]\n",
        "  v = v[:,idx]\n",
        "  v=v[:,1]\n",
        "  kmeans = KMeans(n_clusters=K, random_state=0).fit(v.reshape(-1,1))\n",
        "  ls = np.abs(kmeans.labels_)\n",
        "  end_time=datetime.now()\n",
        "  runtime_algorithm_spectral_clustering=(end_time-start_time).total_seconds() *1000\n",
        "  a[i-1]=runtime_algorithm_spectral_clustering\n",
        "mode = stats.mode(a)\n",
        "print(\"time taken\")\n",
        "print(format(float(mode[0]), 'f'))\n",
        "comp_SC=[]\n",
        "for i in range(0,K):\n",
        "  print(np.where(ls==i)[0]+1)\n",
        "\n",
        "\n",
        "for i in range(0,K):\n",
        "  temp=[]\n",
        "  for j in range(0,len(ls)):\n",
        "    if(ls[j]==i):\n",
        "      temp.append(j+1)\n",
        "  comp_SC.append(temp)\n",
        "\n",
        "print(comp_SC)"
      ],
      "execution_count": null,
      "outputs": [
        {
          "output_type": "stream",
          "name": "stderr",
          "text": [
            "/usr/local/lib/python3.7/dist-packages/sklearn/utils/validation.py:590: FutureWarning: np.matrix usage is deprecated in 1.0 and will raise a TypeError in 1.2. Please convert to a numpy array with np.asarray. For more information see: https://numpy.org/doc/stable/reference/generated/numpy.matrix.html\n",
            "  FutureWarning,\n",
            "/usr/local/lib/python3.7/dist-packages/sklearn/utils/validation.py:590: FutureWarning: np.matrix usage is deprecated in 1.0 and will raise a TypeError in 1.2. Please convert to a numpy array with np.asarray. For more information see: https://numpy.org/doc/stable/reference/generated/numpy.matrix.html\n",
            "  FutureWarning,\n",
            "/usr/local/lib/python3.7/dist-packages/sklearn/utils/validation.py:590: FutureWarning: np.matrix usage is deprecated in 1.0 and will raise a TypeError in 1.2. Please convert to a numpy array with np.asarray. For more information see: https://numpy.org/doc/stable/reference/generated/numpy.matrix.html\n",
            "  FutureWarning,\n",
            "/usr/local/lib/python3.7/dist-packages/sklearn/utils/validation.py:590: FutureWarning: np.matrix usage is deprecated in 1.0 and will raise a TypeError in 1.2. Please convert to a numpy array with np.asarray. For more information see: https://numpy.org/doc/stable/reference/generated/numpy.matrix.html\n",
            "  FutureWarning,\n",
            "/usr/local/lib/python3.7/dist-packages/sklearn/utils/validation.py:590: FutureWarning: np.matrix usage is deprecated in 1.0 and will raise a TypeError in 1.2. Please convert to a numpy array with np.asarray. For more information see: https://numpy.org/doc/stable/reference/generated/numpy.matrix.html\n",
            "  FutureWarning,\n",
            "/usr/local/lib/python3.7/dist-packages/sklearn/utils/validation.py:590: FutureWarning: np.matrix usage is deprecated in 1.0 and will raise a TypeError in 1.2. Please convert to a numpy array with np.asarray. For more information see: https://numpy.org/doc/stable/reference/generated/numpy.matrix.html\n",
            "  FutureWarning,\n",
            "/usr/local/lib/python3.7/dist-packages/sklearn/utils/validation.py:590: FutureWarning: np.matrix usage is deprecated in 1.0 and will raise a TypeError in 1.2. Please convert to a numpy array with np.asarray. For more information see: https://numpy.org/doc/stable/reference/generated/numpy.matrix.html\n",
            "  FutureWarning,\n",
            "/usr/local/lib/python3.7/dist-packages/sklearn/utils/validation.py:590: FutureWarning: np.matrix usage is deprecated in 1.0 and will raise a TypeError in 1.2. Please convert to a numpy array with np.asarray. For more information see: https://numpy.org/doc/stable/reference/generated/numpy.matrix.html\n",
            "  FutureWarning,\n"
          ]
        },
        {
          "output_type": "stream",
          "name": "stdout",
          "text": [
            "time taken\n",
            "88.267000\n",
            "[  1   2   3   4   5   6   7   8   9  10  11  12  13  14  15  16  17  18\n",
            "  19  20  21  22  23  24  25  26  27  28  29  30  33  34  35  36  37  38\n",
            "  39  40  41  42  43  44  45  46  47  48  49  50  51  52  53  54  55  56\n",
            "  57  58  59  60  61  62  63  64  65  66  67  68  69  70  71  72  73  74\n",
            "  75  76  77  78  82  83  84  85  86  87  88  89  90  91  92  93  94  95\n",
            "  96  97  98  99 100 101 102 103 104 105 106 107 108 109 110 111 112 113\n",
            " 114 115 116 117 118 119 120 121 122 123 124 125 126 127 128 129 130 131\n",
            " 132 133 134 135 136 137 138 139 140 141 142 143 144 146 147 148 149 150\n",
            " 151 152 153 154 155 156 157 158 159 160 161 162 163 164 165 166 167 168\n",
            " 169 170 171 172 173 174 175 176 177 178 179 180 184 185 186 187 188 189\n",
            " 190 192 193 194 195 196 197 198 199]\n",
            "[80 81]\n",
            "[ 32 183]\n",
            "[79]\n",
            "[ 31 145 181 182 191]\n",
            "[[1, 2, 3, 4, 5, 6, 7, 8, 9, 10, 11, 12, 13, 14, 15, 16, 17, 18, 19, 20, 21, 22, 23, 24, 25, 26, 27, 28, 29, 30, 33, 34, 35, 36, 37, 38, 39, 40, 41, 42, 43, 44, 45, 46, 47, 48, 49, 50, 51, 52, 53, 54, 55, 56, 57, 58, 59, 60, 61, 62, 63, 64, 65, 66, 67, 68, 69, 70, 71, 72, 73, 74, 75, 76, 77, 78, 82, 83, 84, 85, 86, 87, 88, 89, 90, 91, 92, 93, 94, 95, 96, 97, 98, 99, 100, 101, 102, 103, 104, 105, 106, 107, 108, 109, 110, 111, 112, 113, 114, 115, 116, 117, 118, 119, 120, 121, 122, 123, 124, 125, 126, 127, 128, 129, 130, 131, 132, 133, 134, 135, 136, 137, 138, 139, 140, 141, 142, 143, 144, 146, 147, 148, 149, 150, 151, 152, 153, 154, 155, 156, 157, 158, 159, 160, 161, 162, 163, 164, 165, 166, 167, 168, 169, 170, 171, 172, 173, 174, 175, 176, 177, 178, 179, 180, 184, 185, 186, 187, 188, 189, 190, 192, 193, 194, 195, 196, 197, 198, 199], [80, 81], [32, 183], [79], [31, 145, 181, 182, 191]]\n"
          ]
        },
        {
          "output_type": "stream",
          "name": "stderr",
          "text": [
            "/usr/local/lib/python3.7/dist-packages/sklearn/utils/validation.py:590: FutureWarning: np.matrix usage is deprecated in 1.0 and will raise a TypeError in 1.2. Please convert to a numpy array with np.asarray. For more information see: https://numpy.org/doc/stable/reference/generated/numpy.matrix.html\n",
            "  FutureWarning,\n"
          ]
        }
      ]
    },
    {
      "cell_type": "markdown",
      "metadata": {
        "id": "5IfRuM-FyrIM"
      },
      "source": [
        "**Jazz Network Statistics**"
      ]
    },
    {
      "cell_type": "code",
      "metadata": {
        "id": "GXxmSRHuwC_R",
        "colab": {
          "base_uri": "https://localhost:8080/"
        },
        "outputId": "10aae9f1-f64c-4b6c-c028-ce5f62dea845"
      },
      "source": [
        "#no of communities of Jazz Club\n",
        "print(\"Number of communities using Girvan Newman - \", len(first_division))\n",
        "print(\"Number of communities using Modularity Maximization - \", len(comp_MM))\n",
        "print(\"Number of communities using Spectral Clusternig - \", K)"
      ],
      "execution_count": null,
      "outputs": [
        {
          "output_type": "stream",
          "name": "stdout",
          "text": [
            "Number of communities using Girvan Newman -  5\n",
            "Number of communities using Modularity Maximization -  4\n",
            "Number of communities using Spectral Clusternig -  5\n"
          ]
        }
      ]
    },
    {
      "cell_type": "code",
      "metadata": {
        "colab": {
          "base_uri": "https://localhost:8080/"
        },
        "id": "Jy775exgwgac",
        "outputId": "5f53b671-698b-44a0-e1aa-8cf69f72f81b"
      },
      "source": [
        "# modularity score for jazz netwrork\n",
        "print(\"Jazz Musicians\")\n",
        "print(\"Modularity Score For Girvan Newman - \", nx.algorithms.community.quality.modularity(I,first_division))\n",
        "print(\"Modularity Score For Modularity Maximization - \", nx.algorithms.community.quality.modularity(I,comp_MM))\n",
        "print(\"Modularity Score For Spectral Clustering - \", nx.algorithms.community.quality.modularity(I,comp_SC))\n",
        "\n",
        "\n"
      ],
      "execution_count": null,
      "outputs": [
        {
          "output_type": "stream",
          "name": "stdout",
          "text": [
            "Jazz Musicians\n",
            "Modularity Score For Girvan Newman -  0.0036250428459464867\n",
            "Modularity Score For Modularity Maximization -  0.4390580789678537\n",
            "Modularity Score For Spectral Clustering -    0.403974358974359\n"
          ]
        }
      ]
    }
  ]
}